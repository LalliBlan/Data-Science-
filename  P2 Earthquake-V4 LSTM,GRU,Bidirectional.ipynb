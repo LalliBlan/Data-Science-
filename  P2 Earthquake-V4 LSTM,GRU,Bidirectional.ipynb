{
 "cells": [
  {
   "cell_type": "markdown",
   "metadata": {},
   "source": [
    "\n",
    "## EARTHQUAKE PREDICTION\n",
    "# AN ANALYSIS ON LABORATORY EARTHQUAKES\n",
    "\n",
    "Forecasting earthquakes is one of the most important problems in Earth science because of their devastating consequences. Earthquake casualties are, in general, the result of the total or partial collapse of buildings, and falling non-structural elements. The higher tolls are usually concentrated in developing countries where innovative seismic-resistant and engineering technologies are not applied. \n",
    "To mitigate the consequences and reduce losses, early warning systems have been developed worldwide. These systems issue timely alerts to populations before the hazard occurs, allowing them to take protective measures. The earthquake waves used in these alert systems are the incoming P waves. P waves travel fastest and are the first to arrive \n",
    "from the earthquake. These waves are followed by S waves. In rock, S waves generally travel about 60% the speed of P waves, and the S wave always arrives after the P wave.\n",
    "Warning for incoming S waves can give people time to take precautions; they can also be used in automated devices like in chemical and industrial factories to prevent cascading events, like fire or toxic material spills.\n",
    "An example of these alert systems is the one that UC Berkeley, with the collaboration of Google, is testing. It consists of an application that can record, with the end-user's permission, a smartphone or table’s GPS position and movements. The innovative system can distinguish seismic waves recorded from other types of movements.\n",
    "In the last couple of decades, several algorithms were tested to identify the sources of seismic events, projected ground motion level and the lead time for S waves arrival (e.g., EPIC, previously named ElarmS v3.0, or FinDer). These algorithms are continuously under test and improvement to enhance their performance.\n",
    "The data set used in this analysis was provided by The Los Alamos National laboratory together with Kaggle competition. This is a challenging data set that based on laboratory analysis gives the opportunity to explore when an earthquake will occur. This kind of analysis has the potential to help researchers to improve earthquake hazard assessments that could save lives and billions of dollars in infrastructure.\n"
   ]
  },
  {
   "cell_type": "markdown",
   "metadata": {},
   "source": [
    "## Exploratory Data Analysis.\n"
   ]
  },
  {
   "cell_type": "markdown",
   "metadata": {},
   "source": [
    "The data training is a single, continuous segment of experimental data. \n",
    "The data set consists of two variables, acustic_data that is the seismic signal and time_to_failure that is the time (in seconds) until the next laboratory earthquake. In this analysis I will address when the earthquake will take place. Specifically, predict the time remaining before laboratory earthquakes occur from real-time seismic data.\n"
   ]
  },
  {
   "cell_type": "code",
   "execution_count": 4,
   "metadata": {},
   "outputs": [],
   "source": [
    "#Common packages:\n",
    "import os\n",
    "import pandas as pd\n",
    "import datetime\n",
    "import seaborn as sns\n",
    "import matplotlib.pyplot as plt\n",
    "import numpy as np\n",
    "%matplotlib inline"
   ]
  },
  {
   "cell_type": "markdown",
   "metadata": {},
   "source": [
    "To do EDA I will take a sample of the first 100 million data."
   ]
  },
  {
   "cell_type": "code",
   "execution_count": 74,
   "metadata": {},
   "outputs": [
    {
     "name": "stdout",
     "output_type": "stream",
     "text": [
      "Dataframe shape: (100000000, 2)\n"
     ]
    }
   ],
   "source": [
    "#try:\n",
    "train_data = pd.read_csv('train.csv',nrows=100000000, dtype={'acoustic_data': np.int16},error_bad_lines=False)\n",
    "                           #nrows=100000000, dtype={'acoustic_data': np.int16})\n",
    "                           #index_col=0)\n",
    " # print('Success: Data loaded into dataframe.')\n",
    "print(\"Dataframe shape:\", train_data .shape)\n",
    "#except Exception as e:\n",
    " #   print('Data load error: ',e)"
   ]
  },
  {
   "cell_type": "code",
   "execution_count": 42,
   "metadata": {},
   "outputs": [],
   "source": [
    "from tsfresh import extract_features\n",
    "from tsfresh.feature_extraction import MinimalFCParameters, EfficientFCParameters\n",
    "from tqdm import tqdm\n",
    "from tsfresh import select_features\n",
    "from tsfresh.utilities.dataframe_functions import impute\n",
    "\n",
    "from sklearn.preprocessing import StandardScaler\n",
    "from sklearn.svm import NuSVR\n",
    "from sklearn.metrics import mean_absolute_error"
   ]
  },
  {
   "cell_type": "code",
   "execution_count": 17,
   "metadata": {},
   "outputs": [
    {
     "data": {
      "text/html": [
       "<div>\n",
       "<style scoped>\n",
       "    .dataframe tbody tr th:only-of-type {\n",
       "        vertical-align: middle;\n",
       "    }\n",
       "\n",
       "    .dataframe tbody tr th {\n",
       "        vertical-align: top;\n",
       "    }\n",
       "\n",
       "    .dataframe thead th {\n",
       "        text-align: right;\n",
       "    }\n",
       "</style>\n",
       "<table border=\"1\" class=\"dataframe\">\n",
       "  <thead>\n",
       "    <tr style=\"text-align: right;\">\n",
       "      <th></th>\n",
       "      <th>acoustic_data</th>\n",
       "      <th>time_to_failure</th>\n",
       "    </tr>\n",
       "  </thead>\n",
       "  <tbody>\n",
       "    <tr>\n",
       "      <th>0</th>\n",
       "      <td>12</td>\n",
       "      <td>1.4691</td>\n",
       "    </tr>\n",
       "    <tr>\n",
       "      <th>1</th>\n",
       "      <td>6</td>\n",
       "      <td>1.4691</td>\n",
       "    </tr>\n",
       "    <tr>\n",
       "      <th>2</th>\n",
       "      <td>8</td>\n",
       "      <td>1.4691</td>\n",
       "    </tr>\n",
       "    <tr>\n",
       "      <th>3</th>\n",
       "      <td>5</td>\n",
       "      <td>1.4691</td>\n",
       "    </tr>\n",
       "    <tr>\n",
       "      <th>4</th>\n",
       "      <td>8</td>\n",
       "      <td>1.4691</td>\n",
       "    </tr>\n",
       "  </tbody>\n",
       "</table>\n",
       "</div>"
      ],
      "text/plain": [
       "   acoustic_data  time_to_failure\n",
       "0             12           1.4691\n",
       "1              6           1.4691\n",
       "2              8           1.4691\n",
       "3              5           1.4691\n",
       "4              8           1.4691"
      ]
     },
     "execution_count": 17,
     "metadata": {},
     "output_type": "execute_result"
    }
   ],
   "source": [
    "pd.options.display.precision = 12\n",
    "train_data.head(10)\n",
    "\n"
   ]
  },
  {
   "cell_type": "code",
   "execution_count": 18,
   "metadata": {},
   "outputs": [
    {
     "data": {
      "text/html": [
       "<div>\n",
       "<style scoped>\n",
       "    .dataframe tbody tr th:only-of-type {\n",
       "        vertical-align: middle;\n",
       "    }\n",
       "\n",
       "    .dataframe tbody tr th {\n",
       "        vertical-align: top;\n",
       "    }\n",
       "\n",
       "    .dataframe thead th {\n",
       "        text-align: right;\n",
       "    }\n",
       "</style>\n",
       "<table border=\"1\" class=\"dataframe\">\n",
       "  <thead>\n",
       "    <tr style=\"text-align: right;\">\n",
       "      <th></th>\n",
       "      <th>acoustic_data</th>\n",
       "      <th>time_to_failure</th>\n",
       "    </tr>\n",
       "  </thead>\n",
       "  <tbody>\n",
       "    <tr>\n",
       "      <th>count</th>\n",
       "      <td>1.000000e+08</td>\n",
       "      <td>1.000000e+08</td>\n",
       "    </tr>\n",
       "    <tr>\n",
       "      <th>mean</th>\n",
       "      <td>4.648496e+00</td>\n",
       "      <td>6.447961e+00</td>\n",
       "    </tr>\n",
       "    <tr>\n",
       "      <th>std</th>\n",
       "      <td>1.041905e+01</td>\n",
       "      <td>3.842484e+00</td>\n",
       "    </tr>\n",
       "    <tr>\n",
       "      <th>min</th>\n",
       "      <td>-4.621000e+03</td>\n",
       "      <td>6.954822e-04</td>\n",
       "    </tr>\n",
       "    <tr>\n",
       "      <th>25%</th>\n",
       "      <td>2.000000e+00</td>\n",
       "      <td>3.120298e+00</td>\n",
       "    </tr>\n",
       "    <tr>\n",
       "      <th>50%</th>\n",
       "      <td>5.000000e+00</td>\n",
       "      <td>6.366700e+00</td>\n",
       "    </tr>\n",
       "    <tr>\n",
       "      <th>75%</th>\n",
       "      <td>7.000000e+00</td>\n",
       "      <td>9.613998e+00</td>\n",
       "    </tr>\n",
       "    <tr>\n",
       "      <th>max</th>\n",
       "      <td>3.914000e+03</td>\n",
       "      <td>1.418060e+01</td>\n",
       "    </tr>\n",
       "  </tbody>\n",
       "</table>\n",
       "</div>"
      ],
      "text/plain": [
       "       acoustic_data  time_to_failure\n",
       "count   1.000000e+08     1.000000e+08\n",
       "mean    4.648496e+00     6.447961e+00\n",
       "std     1.041905e+01     3.842484e+00\n",
       "min    -4.621000e+03     6.954822e-04\n",
       "25%     2.000000e+00     3.120298e+00\n",
       "50%     5.000000e+00     6.366700e+00\n",
       "75%     7.000000e+00     9.613998e+00\n",
       "max     3.914000e+03     1.418060e+01"
      ]
     },
     "execution_count": 18,
     "metadata": {},
     "output_type": "execute_result"
    }
   ],
   "source": [
    "train_data.describe()"
   ]
  },
  {
   "cell_type": "code",
   "execution_count": 24,
   "metadata": {},
   "outputs": [
    {
     "data": {
      "text/plain": [
       "acoustic_data            int16\n",
       "time_to_failure        float64\n",
       "acoustic_data_type    category\n",
       "dtype: object"
      ]
     },
     "execution_count": 24,
     "metadata": {},
     "output_type": "execute_result"
    }
   ],
   "source": [
    "#train_data.acoustic_data.nunique()\n",
    "train_data['acoustic_data_type'] = pd.Categorical(train_data.acoustic_data)\n",
    "\n",
    "train_data.dtypes\n",
    "\n",
    "\n"
   ]
  },
  {
   "cell_type": "markdown",
   "metadata": {},
   "source": [
    "If we remove the pick values we can see that the acoustic data seems to have a normal distribution."
   ]
  },
  {
   "cell_type": "code",
   "execution_count": 32,
   "metadata": {},
   "outputs": [
    {
     "name": "stderr",
     "output_type": "stream",
     "text": [
      "/Users/jose1/opt/anaconda3/lib/python3.8/site-packages/seaborn/distributions.py:2551: FutureWarning: `distplot` is a deprecated function and will be removed in a future version. Please adapt your code to use either `displot` (a figure-level function with similar flexibility) or `histplot` (an axes-level function for histograms).\n",
      "  warnings.warn(msg, FutureWarning)\n"
     ]
    },
    {
     "data": {
      "image/png": "[encoded data removed]",
      "text/plain": [
       "<Figure size 1440x360 with 2 Axes>"
      ]
     },
     "metadata": {
      "needs_background": "light"
     },
     "output_type": "display_data"
    }
   ],
   "source": [
    "fig, ax = plt.subplots(1,2, figsize=(20,5))\n",
    "sns.distplot(train_data.acoustic_data.values, ax=ax[0], color=\"Red\", bins=100, kde=False)\n",
    "ax[0].set_xlabel(\"Acustic data\")\n",
    "ax[0].set_ylabel(\"Density\")\n",
    "ax[0].set_title(\"Acustic data distribution\")\n",
    "\n",
    "low = train_data.acoustic_data.mean() - 3 * train_data.acoustic_data.std()\n",
    "high = train_data.acoustic_data.mean() + 3 * train_data.acoustic_data.std() \n",
    "sns.distplot(train_data.loc[(train_data.acoustic_data >= low) & (train_data.acoustic_data <= high), \"acoustic_data\"].values,\n",
    "             ax=ax[1],\n",
    "             color=\"Orange\",\n",
    "             bins=150, kde=False)\n",
    "ax[1].set_xlabel(\"Acustic data\")\n",
    "ax[1].set_ylabel(\"Density\")\n",
    "ax[1].set_title(\"Acustic data distribution without peaks\");"
   ]
  },
  {
   "cell_type": "code",
   "execution_count": 35,
   "metadata": {},
   "outputs": [],
   "source": [
    "#Helper function to graph acoustic data with time to failure.\n",
    "def make_dualline(df):\n",
    "    fig, ax1 = plt.subplots()\n",
    "    plt.title('Acoustic Data and Time to Failure', fontsize=30)\n",
    "\n",
    "    color = 'tab:orange'\n",
    "    ax1.set_xlabel('index', fontsize=25)\n",
    "    ax1.set_ylabel('Time to Failure', color=color, fontsize=20)\n",
    "    \n",
    "    ax1.plot(df['time_to_failure'], color=color)\n",
    "    ax1.tick_params(axis='y', labelcolor=color)\n",
    "\n",
    "    ax2 = ax1.twinx()  # instantiate a second axes that shares the same x-axis\n",
    "\n",
    "    color = 'tab:blue'\n",
    "    ax2.set_ylabel('Acoustic Data', color=color, fontsize=20)  # we already handled the x-label with ax1\n",
    "    ax2.plot(df['acoustic_data'], color=color)\n",
    "    ax2.tick_params(axis='y', labelcolor=color)\n",
    "\n",
    "    fig.tight_layout()  # otherwise the right y-label is slightly clipped\n",
    "    plt.show()\n",
    "\n"
   ]
  },
  {
   "cell_type": "markdown",
   "metadata": {},
   "source": [
    "We can see that large values of acoustic data can represent an earthquake. And we can also see how the time to failure relates to the acoustic data."
   ]
  },
  {
   "cell_type": "code",
   "execution_count": 36,
   "metadata": {},
   "outputs": [
    {
     "data": {
      "image/png": "[encoded data removed]",
      "text/plain": [
       "<Figure size 432x288 with 2 Axes>"
      ]
     },
     "metadata": {},
     "output_type": "display_data"
    }
   ],
   "source": [
    "make_dualline(train_data)"
   ]
  },
  {
   "cell_type": "code",
   "execution_count": 27,
   "metadata": {},
   "outputs": [
    {
     "name": "stdout",
     "output_type": "stream",
     "text": [
      "100000000\n",
      "acoustic_data             3119\n",
      "time_to_failure       99620548\n",
      "acoustic_data_type        3119\n",
      "dtype: int64\n",
      "acoustic_data         0.000031\n",
      "time_to_failure       0.996205\n",
      "acoustic_data_type    0.000031\n",
      "dtype: float64\n"
     ]
    }
   ],
   "source": [
    "#Print the percent of unique values per column. Use the df.nunique and the size of the dataframe to calculate \n",
    "#the percentages.\n",
    "total=len(train_data)\n",
    "print(total)\n",
    "train_unique=train_data.nunique()\n",
    "percentage_unique=train_unique/total\n",
    "print(train_unique)\n",
    "print(percentage_unique)"
   ]
  },
  {
   "cell_type": "markdown",
   "metadata": {},
   "source": [
    "The data set does not have any missing values. And we are keeping all the extreme values observed in order to capture the earthquake events."
   ]
  },
  {
   "cell_type": "code",
   "execution_count": 22,
   "metadata": {},
   "outputs": [
    {
     "data": {
      "text/html": [
       "<div>\n",
       "<style scoped>\n",
       "    .dataframe tbody tr th:only-of-type {\n",
       "        vertical-align: middle;\n",
       "    }\n",
       "\n",
       "    .dataframe tbody tr th {\n",
       "        vertical-align: top;\n",
       "    }\n",
       "\n",
       "    .dataframe thead th {\n",
       "        text-align: right;\n",
       "    }\n",
       "</style>\n",
       "<table border=\"1\" class=\"dataframe\">\n",
       "  <thead>\n",
       "    <tr style=\"text-align: right;\">\n",
       "      <th></th>\n",
       "      <th>percent</th>\n",
       "    </tr>\n",
       "  </thead>\n",
       "  <tbody>\n",
       "  </tbody>\n",
       "</table>\n",
       "</div>"
      ],
      "text/plain": [
       "Empty DataFrame\n",
       "Columns: [percent]\n",
       "Index: []"
      ]
     },
     "execution_count": 22,
     "metadata": {},
     "output_type": "execute_result"
    }
   ],
   "source": [
    "#Run the code below to print out the percent of each feature that is missing.\n",
    "nas=pd.DataFrame(train_data.isnull().sum().sort_values(ascending=False)/len(train_data),columns = ['percent'])\n",
    "pos = nas['percent'] > 0\n",
    "nas[pos]"
   ]
  },
  {
   "cell_type": "markdown",
   "metadata": {},
   "source": [
    "## Modeling"
   ]
  },
  {
   "cell_type": "markdown",
   "metadata": {},
   "source": [
    "Due to processing limitations modeling will be done with 3.17% of the data (20 million readings). "
   ]
  },
  {
   "cell_type": "code",
   "execution_count": 22,
   "metadata": {},
   "outputs": [
    {
     "name": "stdout",
     "output_type": "stream",
     "text": [
      "Dataframe shape: (20000000, 2)\n"
     ]
    }
   ],
   "source": [
    "#try:\n",
    "train_short = pd.read_csv('train.csv',nrows=20000000, dtype={'acoustic_data': np.int16},error_bad_lines=False)\n",
    "                           #nrows=100000000, dtype={'acoustic_data': np.int16})\n",
    "                           #index_col=0)\n",
    " # print('Success: Data loaded into dataframe.')\n",
    "print(\"Dataframe shape:\", train_short .shape)\n",
    "#except Exception as e:\n",
    " #   print('Data load error: ',e)\n",
    "#train_short=train_whole.head(2000000)"
   ]
  },
  {
   "cell_type": "markdown",
   "metadata": {},
   "source": [
    "In an attempt to find an effective model, I am going to apply a feature extraction technique called tsfresh. \n",
    "Tsfresh is a python package that is used to automatically calculate a huge number of features. The package contains methods to evaluate the explaining power and importance of such characteristics for our regression task."
   ]
  },
  {
   "cell_type": "markdown",
   "metadata": {},
   "source": [
    "Groups of 5000 rows will be used by tsfresh to combine them in different ways in order to extract new features. I will add an identifier to be able to distinguish each group of 5000 data points."
   ]
  },
  {
   "cell_type": "code",
   "execution_count": 23,
   "metadata": {},
   "outputs": [],
   "source": [
    "# First Segment\n",
    "rows = 50000\n",
    "idlist = []\n",
    "for n in range(1,401):  #400 segments\n",
    "    idlist = idlist + [n for i in range(rows)]\n",
    "\n"
   ]
  },
  {
   "cell_type": "code",
   "execution_count": 31,
   "metadata": {},
   "outputs": [
    {
     "name": "stdout",
     "output_type": "stream",
     "text": [
      "   acoustic_data  time_to_failure  id\n",
      "0             12           1.4691   1\n",
      "1              6           1.4691   1\n",
      "2              8           1.4691   1\n",
      "3              5           1.4691   1\n",
      "4              8           1.4691   1\n"
     ]
    },
    {
     "data": {
      "text/html": [
       "<div>\n",
       "<style scoped>\n",
       "    .dataframe tbody tr th:only-of-type {\n",
       "        vertical-align: middle;\n",
       "    }\n",
       "\n",
       "    .dataframe tbody tr th {\n",
       "        vertical-align: top;\n",
       "    }\n",
       "\n",
       "    .dataframe thead th {\n",
       "        text-align: right;\n",
       "    }\n",
       "</style>\n",
       "<table border=\"1\" class=\"dataframe\">\n",
       "  <thead>\n",
       "    <tr style=\"text-align: right;\">\n",
       "      <th></th>\n",
       "      <th>acoustic_data</th>\n",
       "      <th>time_to_failure</th>\n",
       "      <th>id</th>\n",
       "    </tr>\n",
       "  </thead>\n",
       "  <tbody>\n",
       "    <tr>\n",
       "      <th>19999995</th>\n",
       "      <td>5</td>\n",
       "      <td>7.815696</td>\n",
       "      <td>400</td>\n",
       "    </tr>\n",
       "    <tr>\n",
       "      <th>19999996</th>\n",
       "      <td>2</td>\n",
       "      <td>7.815696</td>\n",
       "      <td>400</td>\n",
       "    </tr>\n",
       "    <tr>\n",
       "      <th>19999997</th>\n",
       "      <td>0</td>\n",
       "      <td>7.815696</td>\n",
       "      <td>400</td>\n",
       "    </tr>\n",
       "    <tr>\n",
       "      <th>19999998</th>\n",
       "      <td>4</td>\n",
       "      <td>7.815696</td>\n",
       "      <td>400</td>\n",
       "    </tr>\n",
       "    <tr>\n",
       "      <th>19999999</th>\n",
       "      <td>4</td>\n",
       "      <td>7.815696</td>\n",
       "      <td>400</td>\n",
       "    </tr>\n",
       "  </tbody>\n",
       "</table>\n",
       "</div>"
      ],
      "text/plain": [
       "          acoustic_data  time_to_failure   id\n",
       "19999995              5         7.815696  400\n",
       "19999996              2         7.815696  400\n",
       "19999997              0         7.815696  400\n",
       "19999998              4         7.815696  400\n",
       "19999999              4         7.815696  400"
      ]
     },
     "execution_count": 31,
     "metadata": {},
     "output_type": "execute_result"
    }
   ],
   "source": [
    "train_short['id']=idlist\n",
    "print(train_short.head())    \n",
    "train_short.tail()"
   ]
  },
  {
   "cell_type": "code",
   "execution_count": 20,
   "metadata": {},
   "outputs": [],
   "source": [
    "y_all = train_short['time_to_failure']\n",
    "x = train_short.drop(columns = 'time_to_failure')"
   ]
  },
  {
   "cell_type": "code",
   "execution_count": 21,
   "metadata": {},
   "outputs": [
    {
     "data": {
      "text/plain": [
       "20000000"
      ]
     },
     "execution_count": 21,
     "metadata": {},
     "output_type": "execute_result"
    }
   ],
   "source": [
    "len(y)"
   ]
  },
  {
   "cell_type": "code",
   "execution_count": 25,
   "metadata": {},
   "outputs": [],
   "source": [
    "y_all.to_csv('y_all.csv', index=False)"
   ]
  },
  {
   "cell_type": "code",
   "execution_count": 22,
   "metadata": {},
   "outputs": [
    {
     "data": {
      "text/plain": [
       "20000000"
      ]
     },
     "execution_count": 22,
     "metadata": {},
     "output_type": "execute_result"
    }
   ],
   "source": [
    "len(x)"
   ]
  },
  {
   "cell_type": "code",
   "execution_count": 23,
   "metadata": {},
   "outputs": [],
   "source": [
    " x['time'] = x.index\n"
   ]
  },
  {
   "cell_type": "code",
   "execution_count": 24,
   "metadata": {},
   "outputs": [
    {
     "data": {
      "text/html": [
       "<div>\n",
       "<style scoped>\n",
       "    .dataframe tbody tr th:only-of-type {\n",
       "        vertical-align: middle;\n",
       "    }\n",
       "\n",
       "    .dataframe tbody tr th {\n",
       "        vertical-align: top;\n",
       "    }\n",
       "\n",
       "    .dataframe thead th {\n",
       "        text-align: right;\n",
       "    }\n",
       "</style>\n",
       "<table border=\"1\" class=\"dataframe\">\n",
       "  <thead>\n",
       "    <tr style=\"text-align: right;\">\n",
       "      <th></th>\n",
       "      <th>acoustic_data</th>\n",
       "      <th>id</th>\n",
       "      <th>time</th>\n",
       "    </tr>\n",
       "  </thead>\n",
       "  <tbody>\n",
       "    <tr>\n",
       "      <th>0</th>\n",
       "      <td>12</td>\n",
       "      <td>1</td>\n",
       "      <td>0</td>\n",
       "    </tr>\n",
       "    <tr>\n",
       "      <th>1</th>\n",
       "      <td>6</td>\n",
       "      <td>1</td>\n",
       "      <td>1</td>\n",
       "    </tr>\n",
       "    <tr>\n",
       "      <th>2</th>\n",
       "      <td>8</td>\n",
       "      <td>1</td>\n",
       "      <td>2</td>\n",
       "    </tr>\n",
       "    <tr>\n",
       "      <th>3</th>\n",
       "      <td>5</td>\n",
       "      <td>1</td>\n",
       "      <td>3</td>\n",
       "    </tr>\n",
       "    <tr>\n",
       "      <th>4</th>\n",
       "      <td>8</td>\n",
       "      <td>1</td>\n",
       "      <td>4</td>\n",
       "    </tr>\n",
       "  </tbody>\n",
       "</table>\n",
       "</div>"
      ],
      "text/plain": [
       "   acoustic_data  id  time\n",
       "0             12   1     0\n",
       "1              6   1     1\n",
       "2              8   1     2\n",
       "3              5   1     3\n",
       "4              8   1     4"
      ]
     },
     "execution_count": 24,
     "metadata": {},
     "output_type": "execute_result"
    }
   ],
   "source": [
    "x.head()"
   ]
  },
  {
   "cell_type": "code",
   "execution_count": 21,
   "metadata": {},
   "outputs": [
    {
     "name": "stderr",
     "output_type": "stream",
     "text": [
      "Feature Extraction: 100%|██████████| 20/20 [3:18:08<00:00, 594.40s/it]   \n"
     ]
    }
   ],
   "source": [
    "#TSFRESH Extract full features using 'x' as independent data set\n",
    "extracted_features = extract_features(x, column_id=\"id\", column_sort=\"time\", default_fc_parameters=EfficientFCParameters())\n",
    "\n"
   ]
  },
  {
   "cell_type": "code",
   "execution_count": 22,
   "metadata": {},
   "outputs": [
    {
     "data": {
      "text/html": [
       "<div>\n",
       "<style scoped>\n",
       "    .dataframe tbody tr th:only-of-type {\n",
       "        vertical-align: middle;\n",
       "    }\n",
       "\n",
       "    .dataframe tbody tr th {\n",
       "        vertical-align: top;\n",
       "    }\n",
       "\n",
       "    .dataframe thead th {\n",
       "        text-align: right;\n",
       "    }\n",
       "</style>\n",
       "<table border=\"1\" class=\"dataframe\">\n",
       "  <thead>\n",
       "    <tr style=\"text-align: right;\">\n",
       "      <th></th>\n",
       "      <th>acoustic_data__variance_larger_than_standard_deviation</th>\n",
       "      <th>acoustic_data__has_duplicate_max</th>\n",
       "      <th>acoustic_data__has_duplicate_min</th>\n",
       "      <th>acoustic_data__has_duplicate</th>\n",
       "      <th>acoustic_data__sum_values</th>\n",
       "      <th>acoustic_data__abs_energy</th>\n",
       "      <th>acoustic_data__mean_abs_change</th>\n",
       "      <th>acoustic_data__mean_change</th>\n",
       "      <th>acoustic_data__mean_second_derivative_central</th>\n",
       "      <th>acoustic_data__median</th>\n",
       "      <th>...</th>\n",
       "      <th>acoustic_data__permutation_entropy__dimension_5__tau_1</th>\n",
       "      <th>acoustic_data__permutation_entropy__dimension_6__tau_1</th>\n",
       "      <th>acoustic_data__permutation_entropy__dimension_7__tau_1</th>\n",
       "      <th>acoustic_data__query_similarity_count__query_None__threshold_0.0</th>\n",
       "      <th>acoustic_data__matrix_profile__feature_\"min\"__threshold_0.98</th>\n",
       "      <th>acoustic_data__matrix_profile__feature_\"max\"__threshold_0.98</th>\n",
       "      <th>acoustic_data__matrix_profile__feature_\"mean\"__threshold_0.98</th>\n",
       "      <th>acoustic_data__matrix_profile__feature_\"median\"__threshold_0.98</th>\n",
       "      <th>acoustic_data__matrix_profile__feature_\"25\"__threshold_0.98</th>\n",
       "      <th>acoustic_data__matrix_profile__feature_\"75\"__threshold_0.98</th>\n",
       "    </tr>\n",
       "  </thead>\n",
       "  <tbody>\n",
       "    <tr>\n",
       "      <th>1</th>\n",
       "      <td>1.0</td>\n",
       "      <td>0.0</td>\n",
       "      <td>0.0</td>\n",
       "      <td>1.0</td>\n",
       "      <td>248105.0</td>\n",
       "      <td>-6191.0</td>\n",
       "      <td>2.750695</td>\n",
       "      <td>-0.00012</td>\n",
       "      <td>0.00012</td>\n",
       "      <td>5.0</td>\n",
       "      <td>...</td>\n",
       "      <td>4.443346</td>\n",
       "      <td>6.013180</td>\n",
       "      <td>7.652840</td>\n",
       "      <td>NaN</td>\n",
       "      <td>1.410740</td>\n",
       "      <td>7.186709</td>\n",
       "      <td>4.897440</td>\n",
       "      <td>5.124094</td>\n",
       "      <td>4.176964</td>\n",
       "      <td>5.794968</td>\n",
       "    </tr>\n",
       "    <tr>\n",
       "      <th>2</th>\n",
       "      <td>1.0</td>\n",
       "      <td>1.0</td>\n",
       "      <td>0.0</td>\n",
       "      <td>1.0</td>\n",
       "      <td>253489.0</td>\n",
       "      <td>-18533.0</td>\n",
       "      <td>2.589732</td>\n",
       "      <td>0.00008</td>\n",
       "      <td>-0.00001</td>\n",
       "      <td>5.0</td>\n",
       "      <td>...</td>\n",
       "      <td>4.504612</td>\n",
       "      <td>6.114078</td>\n",
       "      <td>7.801334</td>\n",
       "      <td>NaN</td>\n",
       "      <td>1.328854</td>\n",
       "      <td>6.607725</td>\n",
       "      <td>4.919248</td>\n",
       "      <td>5.178234</td>\n",
       "      <td>4.424988</td>\n",
       "      <td>5.619227</td>\n",
       "    </tr>\n",
       "    <tr>\n",
       "      <th>3</th>\n",
       "      <td>1.0</td>\n",
       "      <td>0.0</td>\n",
       "      <td>0.0</td>\n",
       "      <td>1.0</td>\n",
       "      <td>231023.0</td>\n",
       "      <td>-30565.0</td>\n",
       "      <td>2.499170</td>\n",
       "      <td>-0.00004</td>\n",
       "      <td>-0.00004</td>\n",
       "      <td>5.0</td>\n",
       "      <td>...</td>\n",
       "      <td>4.534089</td>\n",
       "      <td>6.164519</td>\n",
       "      <td>7.873629</td>\n",
       "      <td>NaN</td>\n",
       "      <td>1.116887</td>\n",
       "      <td>4.578974</td>\n",
       "      <td>3.155293</td>\n",
       "      <td>3.264616</td>\n",
       "      <td>2.838886</td>\n",
       "      <td>3.574419</td>\n",
       "    </tr>\n",
       "    <tr>\n",
       "      <th>4</th>\n",
       "      <td>1.0</td>\n",
       "      <td>1.0</td>\n",
       "      <td>0.0</td>\n",
       "      <td>1.0</td>\n",
       "      <td>234920.0</td>\n",
       "      <td>-29072.0</td>\n",
       "      <td>2.735615</td>\n",
       "      <td>0.00028</td>\n",
       "      <td>-0.00004</td>\n",
       "      <td>5.0</td>\n",
       "      <td>...</td>\n",
       "      <td>4.447336</td>\n",
       "      <td>6.025315</td>\n",
       "      <td>7.673619</td>\n",
       "      <td>NaN</td>\n",
       "      <td>1.460577</td>\n",
       "      <td>6.890946</td>\n",
       "      <td>4.823323</td>\n",
       "      <td>5.124911</td>\n",
       "      <td>4.023821</td>\n",
       "      <td>5.703971</td>\n",
       "    </tr>\n",
       "    <tr>\n",
       "      <th>5</th>\n",
       "      <td>1.0</td>\n",
       "      <td>0.0</td>\n",
       "      <td>0.0</td>\n",
       "      <td>1.0</td>\n",
       "      <td>234528.0</td>\n",
       "      <td>26818.0</td>\n",
       "      <td>2.730395</td>\n",
       "      <td>-0.00014</td>\n",
       "      <td>0.00009</td>\n",
       "      <td>5.0</td>\n",
       "      <td>...</td>\n",
       "      <td>4.494589</td>\n",
       "      <td>6.099774</td>\n",
       "      <td>7.781758</td>\n",
       "      <td>NaN</td>\n",
       "      <td>1.683005</td>\n",
       "      <td>8.460816</td>\n",
       "      <td>6.540426</td>\n",
       "      <td>6.939950</td>\n",
       "      <td>5.916377</td>\n",
       "      <td>7.462022</td>\n",
       "    </tr>\n",
       "  </tbody>\n",
       "</table>\n",
       "<p>5 rows × 781 columns</p>\n",
       "</div>"
      ],
      "text/plain": [
       "   acoustic_data__variance_larger_than_standard_deviation  \\\n",
       "1                                                1.0        \n",
       "2                                                1.0        \n",
       "3                                                1.0        \n",
       "4                                                1.0        \n",
       "5                                                1.0        \n",
       "\n",
       "   acoustic_data__has_duplicate_max  acoustic_data__has_duplicate_min  \\\n",
       "1                               0.0                               0.0   \n",
       "2                               1.0                               0.0   \n",
       "3                               0.0                               0.0   \n",
       "4                               1.0                               0.0   \n",
       "5                               0.0                               0.0   \n",
       "\n",
       "   acoustic_data__has_duplicate  acoustic_data__sum_values  \\\n",
       "1                           1.0                   248105.0   \n",
       "2                           1.0                   253489.0   \n",
       "3                           1.0                   231023.0   \n",
       "4                           1.0                   234920.0   \n",
       "5                           1.0                   234528.0   \n",
       "\n",
       "   acoustic_data__abs_energy  acoustic_data__mean_abs_change  \\\n",
       "1                    -6191.0                        2.750695   \n",
       "2                   -18533.0                        2.589732   \n",
       "3                   -30565.0                        2.499170   \n",
       "4                   -29072.0                        2.735615   \n",
       "5                    26818.0                        2.730395   \n",
       "\n",
       "   acoustic_data__mean_change  acoustic_data__mean_second_derivative_central  \\\n",
       "1                    -0.00012                                        0.00012   \n",
       "2                     0.00008                                       -0.00001   \n",
       "3                    -0.00004                                       -0.00004   \n",
       "4                     0.00028                                       -0.00004   \n",
       "5                    -0.00014                                        0.00009   \n",
       "\n",
       "   acoustic_data__median  ...  \\\n",
       "1                    5.0  ...   \n",
       "2                    5.0  ...   \n",
       "3                    5.0  ...   \n",
       "4                    5.0  ...   \n",
       "5                    5.0  ...   \n",
       "\n",
       "   acoustic_data__permutation_entropy__dimension_5__tau_1  \\\n",
       "1                                           4.443346        \n",
       "2                                           4.504612        \n",
       "3                                           4.534089        \n",
       "4                                           4.447336        \n",
       "5                                           4.494589        \n",
       "\n",
       "   acoustic_data__permutation_entropy__dimension_6__tau_1  \\\n",
       "1                                           6.013180        \n",
       "2                                           6.114078        \n",
       "3                                           6.164519        \n",
       "4                                           6.025315        \n",
       "5                                           6.099774        \n",
       "\n",
       "   acoustic_data__permutation_entropy__dimension_7__tau_1  \\\n",
       "1                                           7.652840        \n",
       "2                                           7.801334        \n",
       "3                                           7.873629        \n",
       "4                                           7.673619        \n",
       "5                                           7.781758        \n",
       "\n",
       "   acoustic_data__query_similarity_count__query_None__threshold_0.0  \\\n",
       "1                                                NaN                  \n",
       "2                                                NaN                  \n",
       "3                                                NaN                  \n",
       "4                                                NaN                  \n",
       "5                                                NaN                  \n",
       "\n",
       "   acoustic_data__matrix_profile__feature_\"min\"__threshold_0.98  \\\n",
       "1                                           1.410740              \n",
       "2                                           1.328854              \n",
       "3                                           1.116887              \n",
       "4                                           1.460577              \n",
       "5                                           1.683005              \n",
       "\n",
       "   acoustic_data__matrix_profile__feature_\"max\"__threshold_0.98  \\\n",
       "1                                           7.186709              \n",
       "2                                           6.607725              \n",
       "3                                           4.578974              \n",
       "4                                           6.890946              \n",
       "5                                           8.460816              \n",
       "\n",
       "   acoustic_data__matrix_profile__feature_\"mean\"__threshold_0.98  \\\n",
       "1                                           4.897440               \n",
       "2                                           4.919248               \n",
       "3                                           3.155293               \n",
       "4                                           4.823323               \n",
       "5                                           6.540426               \n",
       "\n",
       "   acoustic_data__matrix_profile__feature_\"median\"__threshold_0.98  \\\n",
       "1                                           5.124094                 \n",
       "2                                           5.178234                 \n",
       "3                                           3.264616                 \n",
       "4                                           5.124911                 \n",
       "5                                           6.939950                 \n",
       "\n",
       "   acoustic_data__matrix_profile__feature_\"25\"__threshold_0.98  \\\n",
       "1                                           4.176964             \n",
       "2                                           4.424988             \n",
       "3                                           2.838886             \n",
       "4                                           4.023821             \n",
       "5                                           5.916377             \n",
       "\n",
       "   acoustic_data__matrix_profile__feature_\"75\"__threshold_0.98  \n",
       "1                                           5.794968            \n",
       "2                                           5.619227            \n",
       "3                                           3.574419            \n",
       "4                                           5.703971            \n",
       "5                                           7.462022            \n",
       "\n",
       "[5 rows x 781 columns]"
      ]
     },
     "execution_count": 22,
     "metadata": {},
     "output_type": "execute_result"
    }
   ],
   "source": [
    "extracted_features.head()"
   ]
  },
  {
   "cell_type": "code",
   "execution_count": 23,
   "metadata": {},
   "outputs": [],
   "source": [
    "extracted_features.to_csv('extracted_features.csv', index=False)"
   ]
  },
  {
   "cell_type": "code",
   "execution_count": 28,
   "metadata": {},
   "outputs": [],
   "source": [
    "extracted_features=pd.read_csv('extracted_features.csv')"
   ]
  },
  {
   "cell_type": "code",
   "execution_count": 25,
   "metadata": {},
   "outputs": [
    {
     "data": {
      "text/plain": [
       "Index(['acoustic_data__variance_larger_than_standard_deviation',\n",
       "       'acoustic_data__has_duplicate_max', 'acoustic_data__has_duplicate_min',\n",
       "       'acoustic_data__has_duplicate', 'acoustic_data__sum_values',\n",
       "       'acoustic_data__abs_energy', 'acoustic_data__mean_abs_change',\n",
       "       'acoustic_data__mean_change',\n",
       "       'acoustic_data__mean_second_derivative_central',\n",
       "       'acoustic_data__median',\n",
       "       ...\n",
       "       'acoustic_data__permutation_entropy__dimension_5__tau_1',\n",
       "       'acoustic_data__permutation_entropy__dimension_6__tau_1',\n",
       "       'acoustic_data__permutation_entropy__dimension_7__tau_1',\n",
       "       'acoustic_data__query_similarity_count__query_None__threshold_0.0',\n",
       "       'acoustic_data__matrix_profile__feature_\"min\"__threshold_0.98',\n",
       "       'acoustic_data__matrix_profile__feature_\"max\"__threshold_0.98',\n",
       "       'acoustic_data__matrix_profile__feature_\"mean\"__threshold_0.98',\n",
       "       'acoustic_data__matrix_profile__feature_\"median\"__threshold_0.98',\n",
       "       'acoustic_data__matrix_profile__feature_\"25\"__threshold_0.98',\n",
       "       'acoustic_data__matrix_profile__feature_\"75\"__threshold_0.98'],\n",
       "      dtype='object', length=781)"
      ]
     },
     "execution_count": 25,
     "metadata": {},
     "output_type": "execute_result"
    }
   ],
   "source": [
    "extracted_features.columns"
   ]
  },
  {
   "cell_type": "code",
   "execution_count": 26,
   "metadata": {},
   "outputs": [
    {
     "data": {
      "text/plain": [
       "400"
      ]
     },
     "execution_count": 26,
     "metadata": {},
     "output_type": "execute_result"
    }
   ],
   "source": [
    "len(extracted_features)"
   ]
  },
  {
   "cell_type": "markdown",
   "metadata": {},
   "source": [
    "To obtain the time to failure values for each of the grouped data, \n",
    "I will get the max value of time to failure in each window."
   ]
  },
  {
   "cell_type": "code",
   "execution_count": 32,
   "metadata": {},
   "outputs": [
    {
     "name": "stdout",
     "output_type": "stream",
     "text": [
      "---4 ) 1.6938292980194092 seconds ---\n"
     ]
    }
   ],
   "source": [
    "# To obtain the time to failure values for each of the grouped data, \n",
    "#I will get the max value of time to failure in each window.\n",
    "\n",
    "import time\n",
    "start_time = time.time()\n",
    "train_max = train_short[train_short['time_to_failure'] == train_short.groupby(['id'])['time_to_failure'].transform(max)]\n",
    "print(\"---4 ) %s seconds ---\" % (time.time() - start_time))\n",
    "\n",
    "\n",
    "#start_time = time.time()\n",
    "#y_max = df[df['B'] == df.groupby(['A'])['B'].transform(max)]\n",
    "#print(\"---4 ) %s seconds ---\" % (time.time() - start_time))"
   ]
  },
  {
   "cell_type": "code",
   "execution_count": 27,
   "metadata": {},
   "outputs": [
    {
     "data": {
      "text/plain": [
       "400"
      ]
     },
     "execution_count": 27,
     "metadata": {},
     "output_type": "execute_result"
    }
   ],
   "source": [
    "len(train_max)"
   ]
  },
  {
   "cell_type": "code",
   "execution_count": 28,
   "metadata": {},
   "outputs": [
    {
     "name": "stdout",
     "output_type": "stream",
     "text": [
      "        acoustic_data  time_to_failure  id\n",
      "0                  12         1.469100   1\n",
      "50000               1         1.456399   2\n",
      "100000              2         1.443598   3\n",
      "150000              5         1.430797   4\n",
      "200000             18         1.418096   5\n",
      "          acoustic_data  time_to_failure   id\n",
      "19750000             11         7.880596  396\n",
      "19800000              4         7.867896  397\n",
      "19850000              6         7.853999  398\n",
      "19900000              5         7.841298  399\n",
      "19950000              8         7.828497  400\n"
     ]
    }
   ],
   "source": [
    "print(train_max.head())\n",
    "print(train_max.tail())"
   ]
  },
  {
   "cell_type": "code",
   "execution_count": 29,
   "metadata": {},
   "outputs": [],
   "source": [
    "y=train_max['time_to_failure'].reset_index(drop=True)"
   ]
  },
  {
   "cell_type": "code",
   "execution_count": 30,
   "metadata": {},
   "outputs": [],
   "source": [
    "y.to_csv('y_max.csv', index=False)"
   ]
  },
  {
   "cell_type": "code",
   "execution_count": 55,
   "metadata": {},
   "outputs": [],
   "source": [
    "y=pd.read_csv('y_max.csv')"
   ]
  },
  {
   "cell_type": "code",
   "execution_count": 56,
   "metadata": {},
   "outputs": [
    {
     "data": {
      "text/html": [
       "<div>\n",
       "<style scoped>\n",
       "    .dataframe tbody tr th:only-of-type {\n",
       "        vertical-align: middle;\n",
       "    }\n",
       "\n",
       "    .dataframe tbody tr th {\n",
       "        vertical-align: top;\n",
       "    }\n",
       "\n",
       "    .dataframe thead th {\n",
       "        text-align: right;\n",
       "    }\n",
       "</style>\n",
       "<table border=\"1\" class=\"dataframe\">\n",
       "  <thead>\n",
       "    <tr style=\"text-align: right;\">\n",
       "      <th></th>\n",
       "      <th>time_to_failure</th>\n",
       "    </tr>\n",
       "  </thead>\n",
       "  <tbody>\n",
       "    <tr>\n",
       "      <th>0</th>\n",
       "      <td>1.469100</td>\n",
       "    </tr>\n",
       "    <tr>\n",
       "      <th>1</th>\n",
       "      <td>1.456399</td>\n",
       "    </tr>\n",
       "    <tr>\n",
       "      <th>2</th>\n",
       "      <td>1.443598</td>\n",
       "    </tr>\n",
       "    <tr>\n",
       "      <th>3</th>\n",
       "      <td>1.430797</td>\n",
       "    </tr>\n",
       "    <tr>\n",
       "      <th>4</th>\n",
       "      <td>1.418096</td>\n",
       "    </tr>\n",
       "  </tbody>\n",
       "</table>\n",
       "</div>"
      ],
      "text/plain": [
       "   time_to_failure\n",
       "0         1.469100\n",
       "1         1.456399\n",
       "2         1.443598\n",
       "3         1.430797\n",
       "4         1.418096"
      ]
     },
     "execution_count": 56,
     "metadata": {},
     "output_type": "execute_result"
    }
   ],
   "source": [
    "y.head()"
   ]
  },
  {
   "cell_type": "code",
   "execution_count": 57,
   "metadata": {},
   "outputs": [
    {
     "data": {
      "text/html": [
       "<div>\n",
       "<style scoped>\n",
       "    .dataframe tbody tr th:only-of-type {\n",
       "        vertical-align: middle;\n",
       "    }\n",
       "\n",
       "    .dataframe tbody tr th {\n",
       "        vertical-align: top;\n",
       "    }\n",
       "\n",
       "    .dataframe thead th {\n",
       "        text-align: right;\n",
       "    }\n",
       "</style>\n",
       "<table border=\"1\" class=\"dataframe\">\n",
       "  <thead>\n",
       "    <tr style=\"text-align: right;\">\n",
       "      <th></th>\n",
       "      <th>acoustic_data__variance_larger_than_standard_deviation</th>\n",
       "      <th>acoustic_data__has_duplicate_max</th>\n",
       "      <th>acoustic_data__has_duplicate_min</th>\n",
       "      <th>acoustic_data__has_duplicate</th>\n",
       "      <th>acoustic_data__sum_values</th>\n",
       "      <th>acoustic_data__abs_energy</th>\n",
       "      <th>acoustic_data__mean_abs_change</th>\n",
       "      <th>acoustic_data__mean_change</th>\n",
       "      <th>acoustic_data__mean_second_derivative_central</th>\n",
       "      <th>acoustic_data__median</th>\n",
       "      <th>...</th>\n",
       "      <th>acoustic_data__permutation_entropy__dimension_5__tau_1</th>\n",
       "      <th>acoustic_data__permutation_entropy__dimension_6__tau_1</th>\n",
       "      <th>acoustic_data__permutation_entropy__dimension_7__tau_1</th>\n",
       "      <th>acoustic_data__query_similarity_count__query_None__threshold_0.0</th>\n",
       "      <th>acoustic_data__matrix_profile__feature_\"min\"__threshold_0.98</th>\n",
       "      <th>acoustic_data__matrix_profile__feature_\"max\"__threshold_0.98</th>\n",
       "      <th>acoustic_data__matrix_profile__feature_\"mean\"__threshold_0.98</th>\n",
       "      <th>acoustic_data__matrix_profile__feature_\"median\"__threshold_0.98</th>\n",
       "      <th>acoustic_data__matrix_profile__feature_\"25\"__threshold_0.98</th>\n",
       "      <th>acoustic_data__matrix_profile__feature_\"75\"__threshold_0.98</th>\n",
       "    </tr>\n",
       "  </thead>\n",
       "  <tbody>\n",
       "    <tr>\n",
       "      <th>0</th>\n",
       "      <td>1.0</td>\n",
       "      <td>0.0</td>\n",
       "      <td>0.0</td>\n",
       "      <td>1.0</td>\n",
       "      <td>248105.0</td>\n",
       "      <td>-6191.0</td>\n",
       "      <td>2.750695</td>\n",
       "      <td>-0.00012</td>\n",
       "      <td>0.00012</td>\n",
       "      <td>5.0</td>\n",
       "      <td>...</td>\n",
       "      <td>4.443346</td>\n",
       "      <td>6.013180</td>\n",
       "      <td>7.652840</td>\n",
       "      <td>0.0</td>\n",
       "      <td>1.410740</td>\n",
       "      <td>7.186709</td>\n",
       "      <td>4.897440</td>\n",
       "      <td>5.124094</td>\n",
       "      <td>4.176964</td>\n",
       "      <td>5.794968</td>\n",
       "    </tr>\n",
       "    <tr>\n",
       "      <th>1</th>\n",
       "      <td>1.0</td>\n",
       "      <td>1.0</td>\n",
       "      <td>0.0</td>\n",
       "      <td>1.0</td>\n",
       "      <td>253489.0</td>\n",
       "      <td>-18533.0</td>\n",
       "      <td>2.589732</td>\n",
       "      <td>0.00008</td>\n",
       "      <td>-0.00001</td>\n",
       "      <td>5.0</td>\n",
       "      <td>...</td>\n",
       "      <td>4.504612</td>\n",
       "      <td>6.114078</td>\n",
       "      <td>7.801334</td>\n",
       "      <td>0.0</td>\n",
       "      <td>1.328854</td>\n",
       "      <td>6.607725</td>\n",
       "      <td>4.919248</td>\n",
       "      <td>5.178234</td>\n",
       "      <td>4.424988</td>\n",
       "      <td>5.619227</td>\n",
       "    </tr>\n",
       "    <tr>\n",
       "      <th>2</th>\n",
       "      <td>1.0</td>\n",
       "      <td>0.0</td>\n",
       "      <td>0.0</td>\n",
       "      <td>1.0</td>\n",
       "      <td>231023.0</td>\n",
       "      <td>-30565.0</td>\n",
       "      <td>2.499170</td>\n",
       "      <td>-0.00004</td>\n",
       "      <td>-0.00004</td>\n",
       "      <td>5.0</td>\n",
       "      <td>...</td>\n",
       "      <td>4.534089</td>\n",
       "      <td>6.164519</td>\n",
       "      <td>7.873629</td>\n",
       "      <td>0.0</td>\n",
       "      <td>1.116887</td>\n",
       "      <td>4.578974</td>\n",
       "      <td>3.155293</td>\n",
       "      <td>3.264616</td>\n",
       "      <td>2.838886</td>\n",
       "      <td>3.574419</td>\n",
       "    </tr>\n",
       "    <tr>\n",
       "      <th>3</th>\n",
       "      <td>1.0</td>\n",
       "      <td>1.0</td>\n",
       "      <td>0.0</td>\n",
       "      <td>1.0</td>\n",
       "      <td>234920.0</td>\n",
       "      <td>-29072.0</td>\n",
       "      <td>2.735615</td>\n",
       "      <td>0.00028</td>\n",
       "      <td>-0.00004</td>\n",
       "      <td>5.0</td>\n",
       "      <td>...</td>\n",
       "      <td>4.447336</td>\n",
       "      <td>6.025315</td>\n",
       "      <td>7.673619</td>\n",
       "      <td>0.0</td>\n",
       "      <td>1.460577</td>\n",
       "      <td>6.890946</td>\n",
       "      <td>4.823323</td>\n",
       "      <td>5.124911</td>\n",
       "      <td>4.023821</td>\n",
       "      <td>5.703971</td>\n",
       "    </tr>\n",
       "    <tr>\n",
       "      <th>4</th>\n",
       "      <td>1.0</td>\n",
       "      <td>0.0</td>\n",
       "      <td>0.0</td>\n",
       "      <td>1.0</td>\n",
       "      <td>234528.0</td>\n",
       "      <td>26818.0</td>\n",
       "      <td>2.730395</td>\n",
       "      <td>-0.00014</td>\n",
       "      <td>0.00009</td>\n",
       "      <td>5.0</td>\n",
       "      <td>...</td>\n",
       "      <td>4.494589</td>\n",
       "      <td>6.099774</td>\n",
       "      <td>7.781758</td>\n",
       "      <td>0.0</td>\n",
       "      <td>1.683005</td>\n",
       "      <td>8.460816</td>\n",
       "      <td>6.540426</td>\n",
       "      <td>6.939950</td>\n",
       "      <td>5.916377</td>\n",
       "      <td>7.462022</td>\n",
       "    </tr>\n",
       "    <tr>\n",
       "      <th>...</th>\n",
       "      <td>...</td>\n",
       "      <td>...</td>\n",
       "      <td>...</td>\n",
       "      <td>...</td>\n",
       "      <td>...</td>\n",
       "      <td>...</td>\n",
       "      <td>...</td>\n",
       "      <td>...</td>\n",
       "      <td>...</td>\n",
       "      <td>...</td>\n",
       "      <td>...</td>\n",
       "      <td>...</td>\n",
       "      <td>...</td>\n",
       "      <td>...</td>\n",
       "      <td>...</td>\n",
       "      <td>...</td>\n",
       "      <td>...</td>\n",
       "      <td>...</td>\n",
       "      <td>...</td>\n",
       "      <td>...</td>\n",
       "      <td>...</td>\n",
       "    </tr>\n",
       "    <tr>\n",
       "      <th>395</th>\n",
       "      <td>1.0</td>\n",
       "      <td>0.0</td>\n",
       "      <td>0.0</td>\n",
       "      <td>1.0</td>\n",
       "      <td>209432.0</td>\n",
       "      <td>-28550.0</td>\n",
       "      <td>2.637873</td>\n",
       "      <td>-0.00018</td>\n",
       "      <td>0.00002</td>\n",
       "      <td>4.0</td>\n",
       "      <td>...</td>\n",
       "      <td>4.513869</td>\n",
       "      <td>6.134176</td>\n",
       "      <td>7.831664</td>\n",
       "      <td>0.0</td>\n",
       "      <td>1.388910</td>\n",
       "      <td>6.945213</td>\n",
       "      <td>5.175090</td>\n",
       "      <td>5.485986</td>\n",
       "      <td>4.776027</td>\n",
       "      <td>5.877221</td>\n",
       "    </tr>\n",
       "    <tr>\n",
       "      <th>396</th>\n",
       "      <td>1.0</td>\n",
       "      <td>0.0</td>\n",
       "      <td>0.0</td>\n",
       "      <td>1.0</td>\n",
       "      <td>215678.0</td>\n",
       "      <td>-21336.0</td>\n",
       "      <td>2.658973</td>\n",
       "      <td>0.00004</td>\n",
       "      <td>0.00006</td>\n",
       "      <td>4.0</td>\n",
       "      <td>...</td>\n",
       "      <td>4.495332</td>\n",
       "      <td>6.099669</td>\n",
       "      <td>7.777562</td>\n",
       "      <td>0.0</td>\n",
       "      <td>1.470615</td>\n",
       "      <td>7.193271</td>\n",
       "      <td>5.386130</td>\n",
       "      <td>5.679358</td>\n",
       "      <td>4.852286</td>\n",
       "      <td>6.188248</td>\n",
       "    </tr>\n",
       "    <tr>\n",
       "      <th>397</th>\n",
       "      <td>1.0</td>\n",
       "      <td>1.0</td>\n",
       "      <td>0.0</td>\n",
       "      <td>1.0</td>\n",
       "      <td>212349.0</td>\n",
       "      <td>5129.0</td>\n",
       "      <td>2.560071</td>\n",
       "      <td>-0.00002</td>\n",
       "      <td>0.00004</td>\n",
       "      <td>4.0</td>\n",
       "      <td>...</td>\n",
       "      <td>4.520619</td>\n",
       "      <td>6.144747</td>\n",
       "      <td>7.848583</td>\n",
       "      <td>0.0</td>\n",
       "      <td>1.288115</td>\n",
       "      <td>6.159001</td>\n",
       "      <td>4.648262</td>\n",
       "      <td>4.887416</td>\n",
       "      <td>4.286765</td>\n",
       "      <td>5.239563</td>\n",
       "    </tr>\n",
       "    <tr>\n",
       "      <th>398</th>\n",
       "      <td>1.0</td>\n",
       "      <td>1.0</td>\n",
       "      <td>0.0</td>\n",
       "      <td>1.0</td>\n",
       "      <td>224769.0</td>\n",
       "      <td>21609.0</td>\n",
       "      <td>2.588252</td>\n",
       "      <td>0.00004</td>\n",
       "      <td>0.00005</td>\n",
       "      <td>5.0</td>\n",
       "      <td>...</td>\n",
       "      <td>4.515438</td>\n",
       "      <td>6.140083</td>\n",
       "      <td>7.843517</td>\n",
       "      <td>0.0</td>\n",
       "      <td>1.492018</td>\n",
       "      <td>7.010369</td>\n",
       "      <td>5.385103</td>\n",
       "      <td>5.705192</td>\n",
       "      <td>5.006461</td>\n",
       "      <td>6.094666</td>\n",
       "    </tr>\n",
       "    <tr>\n",
       "      <th>399</th>\n",
       "      <td>1.0</td>\n",
       "      <td>0.0</td>\n",
       "      <td>0.0</td>\n",
       "      <td>1.0</td>\n",
       "      <td>233798.0</td>\n",
       "      <td>10924.0</td>\n",
       "      <td>2.658093</td>\n",
       "      <td>-0.00008</td>\n",
       "      <td>0.00006</td>\n",
       "      <td>5.0</td>\n",
       "      <td>...</td>\n",
       "      <td>4.481237</td>\n",
       "      <td>6.082030</td>\n",
       "      <td>7.760368</td>\n",
       "      <td>0.0</td>\n",
       "      <td>1.334761</td>\n",
       "      <td>6.599160</td>\n",
       "      <td>4.868992</td>\n",
       "      <td>5.164403</td>\n",
       "      <td>4.338130</td>\n",
       "      <td>5.615586</td>\n",
       "    </tr>\n",
       "  </tbody>\n",
       "</table>\n",
       "<p>400 rows × 781 columns</p>\n",
       "</div>"
      ],
      "text/plain": [
       "     acoustic_data__variance_larger_than_standard_deviation  \\\n",
       "0                                                  1.0        \n",
       "1                                                  1.0        \n",
       "2                                                  1.0        \n",
       "3                                                  1.0        \n",
       "4                                                  1.0        \n",
       "..                                                 ...        \n",
       "395                                                1.0        \n",
       "396                                                1.0        \n",
       "397                                                1.0        \n",
       "398                                                1.0        \n",
       "399                                                1.0        \n",
       "\n",
       "     acoustic_data__has_duplicate_max  acoustic_data__has_duplicate_min  \\\n",
       "0                                 0.0                               0.0   \n",
       "1                                 1.0                               0.0   \n",
       "2                                 0.0                               0.0   \n",
       "3                                 1.0                               0.0   \n",
       "4                                 0.0                               0.0   \n",
       "..                                ...                               ...   \n",
       "395                               0.0                               0.0   \n",
       "396                               0.0                               0.0   \n",
       "397                               1.0                               0.0   \n",
       "398                               1.0                               0.0   \n",
       "399                               0.0                               0.0   \n",
       "\n",
       "     acoustic_data__has_duplicate  acoustic_data__sum_values  \\\n",
       "0                             1.0                   248105.0   \n",
       "1                             1.0                   253489.0   \n",
       "2                             1.0                   231023.0   \n",
       "3                             1.0                   234920.0   \n",
       "4                             1.0                   234528.0   \n",
       "..                            ...                        ...   \n",
       "395                           1.0                   209432.0   \n",
       "396                           1.0                   215678.0   \n",
       "397                           1.0                   212349.0   \n",
       "398                           1.0                   224769.0   \n",
       "399                           1.0                   233798.0   \n",
       "\n",
       "     acoustic_data__abs_energy  acoustic_data__mean_abs_change  \\\n",
       "0                      -6191.0                        2.750695   \n",
       "1                     -18533.0                        2.589732   \n",
       "2                     -30565.0                        2.499170   \n",
       "3                     -29072.0                        2.735615   \n",
       "4                      26818.0                        2.730395   \n",
       "..                         ...                             ...   \n",
       "395                   -28550.0                        2.637873   \n",
       "396                   -21336.0                        2.658973   \n",
       "397                     5129.0                        2.560071   \n",
       "398                    21609.0                        2.588252   \n",
       "399                    10924.0                        2.658093   \n",
       "\n",
       "     acoustic_data__mean_change  \\\n",
       "0                      -0.00012   \n",
       "1                       0.00008   \n",
       "2                      -0.00004   \n",
       "3                       0.00028   \n",
       "4                      -0.00014   \n",
       "..                          ...   \n",
       "395                    -0.00018   \n",
       "396                     0.00004   \n",
       "397                    -0.00002   \n",
       "398                     0.00004   \n",
       "399                    -0.00008   \n",
       "\n",
       "     acoustic_data__mean_second_derivative_central  acoustic_data__median  \\\n",
       "0                                          0.00012                    5.0   \n",
       "1                                         -0.00001                    5.0   \n",
       "2                                         -0.00004                    5.0   \n",
       "3                                         -0.00004                    5.0   \n",
       "4                                          0.00009                    5.0   \n",
       "..                                             ...                    ...   \n",
       "395                                        0.00002                    4.0   \n",
       "396                                        0.00006                    4.0   \n",
       "397                                        0.00004                    4.0   \n",
       "398                                        0.00005                    5.0   \n",
       "399                                        0.00006                    5.0   \n",
       "\n",
       "     ...  acoustic_data__permutation_entropy__dimension_5__tau_1  \\\n",
       "0    ...                                           4.443346        \n",
       "1    ...                                           4.504612        \n",
       "2    ...                                           4.534089        \n",
       "3    ...                                           4.447336        \n",
       "4    ...                                           4.494589        \n",
       "..   ...                                                ...        \n",
       "395  ...                                           4.513869        \n",
       "396  ...                                           4.495332        \n",
       "397  ...                                           4.520619        \n",
       "398  ...                                           4.515438        \n",
       "399  ...                                           4.481237        \n",
       "\n",
       "     acoustic_data__permutation_entropy__dimension_6__tau_1  \\\n",
       "0                                             6.013180        \n",
       "1                                             6.114078        \n",
       "2                                             6.164519        \n",
       "3                                             6.025315        \n",
       "4                                             6.099774        \n",
       "..                                                 ...        \n",
       "395                                           6.134176        \n",
       "396                                           6.099669        \n",
       "397                                           6.144747        \n",
       "398                                           6.140083        \n",
       "399                                           6.082030        \n",
       "\n",
       "     acoustic_data__permutation_entropy__dimension_7__tau_1  \\\n",
       "0                                             7.652840        \n",
       "1                                             7.801334        \n",
       "2                                             7.873629        \n",
       "3                                             7.673619        \n",
       "4                                             7.781758        \n",
       "..                                                 ...        \n",
       "395                                           7.831664        \n",
       "396                                           7.777562        \n",
       "397                                           7.848583        \n",
       "398                                           7.843517        \n",
       "399                                           7.760368        \n",
       "\n",
       "     acoustic_data__query_similarity_count__query_None__threshold_0.0  \\\n",
       "0                                                  0.0                  \n",
       "1                                                  0.0                  \n",
       "2                                                  0.0                  \n",
       "3                                                  0.0                  \n",
       "4                                                  0.0                  \n",
       "..                                                 ...                  \n",
       "395                                                0.0                  \n",
       "396                                                0.0                  \n",
       "397                                                0.0                  \n",
       "398                                                0.0                  \n",
       "399                                                0.0                  \n",
       "\n",
       "     acoustic_data__matrix_profile__feature_\"min\"__threshold_0.98  \\\n",
       "0                                             1.410740              \n",
       "1                                             1.328854              \n",
       "2                                             1.116887              \n",
       "3                                             1.460577              \n",
       "4                                             1.683005              \n",
       "..                                                 ...              \n",
       "395                                           1.388910              \n",
       "396                                           1.470615              \n",
       "397                                           1.288115              \n",
       "398                                           1.492018              \n",
       "399                                           1.334761              \n",
       "\n",
       "     acoustic_data__matrix_profile__feature_\"max\"__threshold_0.98  \\\n",
       "0                                             7.186709              \n",
       "1                                             6.607725              \n",
       "2                                             4.578974              \n",
       "3                                             6.890946              \n",
       "4                                             8.460816              \n",
       "..                                                 ...              \n",
       "395                                           6.945213              \n",
       "396                                           7.193271              \n",
       "397                                           6.159001              \n",
       "398                                           7.010369              \n",
       "399                                           6.599160              \n",
       "\n",
       "     acoustic_data__matrix_profile__feature_\"mean\"__threshold_0.98  \\\n",
       "0                                             4.897440               \n",
       "1                                             4.919248               \n",
       "2                                             3.155293               \n",
       "3                                             4.823323               \n",
       "4                                             6.540426               \n",
       "..                                                 ...               \n",
       "395                                           5.175090               \n",
       "396                                           5.386130               \n",
       "397                                           4.648262               \n",
       "398                                           5.385103               \n",
       "399                                           4.868992               \n",
       "\n",
       "     acoustic_data__matrix_profile__feature_\"median\"__threshold_0.98  \\\n",
       "0                                             5.124094                 \n",
       "1                                             5.178234                 \n",
       "2                                             3.264616                 \n",
       "3                                             5.124911                 \n",
       "4                                             6.939950                 \n",
       "..                                                 ...                 \n",
       "395                                           5.485986                 \n",
       "396                                           5.679358                 \n",
       "397                                           4.887416                 \n",
       "398                                           5.705192                 \n",
       "399                                           5.164403                 \n",
       "\n",
       "     acoustic_data__matrix_profile__feature_\"25\"__threshold_0.98  \\\n",
       "0                                             4.176964             \n",
       "1                                             4.424988             \n",
       "2                                             2.838886             \n",
       "3                                             4.023821             \n",
       "4                                             5.916377             \n",
       "..                                                 ...             \n",
       "395                                           4.776027             \n",
       "396                                           4.852286             \n",
       "397                                           4.286765             \n",
       "398                                           5.006461             \n",
       "399                                           4.338130             \n",
       "\n",
       "     acoustic_data__matrix_profile__feature_\"75\"__threshold_0.98  \n",
       "0                                             5.794968            \n",
       "1                                             5.619227            \n",
       "2                                             3.574419            \n",
       "3                                             5.703971            \n",
       "4                                             7.462022            \n",
       "..                                                 ...            \n",
       "395                                           5.877221            \n",
       "396                                           6.188248            \n",
       "397                                           5.239563            \n",
       "398                                           6.094666            \n",
       "399                                           5.615586            \n",
       "\n",
       "[400 rows x 781 columns]"
      ]
     },
     "execution_count": 57,
     "metadata": {},
     "output_type": "execute_result"
    }
   ],
   "source": [
    "#Before looking for a smaller set of important features, we need to impute the long list of features first.\n",
    "impute(extracted_features)"
   ]
  },
  {
   "cell_type": "code",
   "execution_count": 49,
   "metadata": {},
   "outputs": [
    {
     "name": "stdout",
     "output_type": "stream",
     "text": [
      "<class 'pandas.core.frame.DataFrame'>\n",
      "RangeIndex: 400 entries, 0 to 399\n",
      "Columns: 781 entries, acoustic_data__variance_larger_than_standard_deviation to acoustic_data__matrix_profile__feature_\"75\"__threshold_0.98\n",
      "dtypes: float64(781)\n",
      "memory usage: 2.4 MB\n"
     ]
    }
   ],
   "source": [
    "extracted_features.info()"
   ]
  },
  {
   "cell_type": "code",
   "execution_count": 54,
   "metadata": {},
   "outputs": [],
   "source": [
    "y.index = extracted_features.index"
   ]
  },
  {
   "cell_type": "code",
   "execution_count": null,
   "metadata": {},
   "outputs": [],
   "source": [
    "#The fdr level is the threshold of feature importance. Ii is set as very low to get smaller number of features.\n",
    "small_feat_set = select_features(extracted_features, y, fdr_level = 0.005, ml_task = 'regression')\n",
    "y = y.values.reshape(400,1)\n",
    "small_feat_set.info()"
   ]
  },
  {
   "cell_type": "code",
   "execution_count": null,
   "metadata": {},
   "outputs": [],
   "source": [
    "small_feat_set.head()"
   ]
  },
  {
   "cell_type": "code",
   "execution_count": null,
   "metadata": {},
   "outputs": [],
   "source": [
    "!pip install eli5"
   ]
  },
  {
   "cell_type": "code",
   "execution_count": 80,
   "metadata": {},
   "outputs": [],
   "source": [
    "small_feat_set=pd.read_csv('small_feat_set.csv')"
   ]
  },
  {
   "cell_type": "markdown",
   "metadata": {},
   "source": [
    "## Feature importance analysis"
   ]
  },
  {
   "cell_type": "code",
   "execution_count": 81,
   "metadata": {},
   "outputs": [
    {
     "name": "stderr",
     "output_type": "stream",
     "text": [
      "<ipython-input-81-4adc5256c55f>:8: DataConversionWarning: A column-vector y was passed when a 1d array was expected. Please change the shape of y to (n_samples,), for example using ravel().\n",
      "  perm = PermutationImportance(rf(n_estimators=100, random_state=12345).fit(small_feat_set,y),random_state=56789).fit(small_feat_set,y)\n"
     ]
    },
    {
     "data": {
      "text/html": [
       "\n",
       "    <style>\n",
       "    table.eli5-weights tr:hover {\n",
       "        filter: brightness(85%);\n",
       "    }\n",
       "</style>\n",
       "\n",
       "\n",
       "\n",
       "    \n",
       "\n",
       "    \n",
       "\n",
       "    \n",
       "\n",
       "    \n",
       "\n",
       "    \n",
       "\n",
       "    \n",
       "\n",
       "\n",
       "    \n",
       "\n",
       "    \n",
       "\n",
       "    \n",
       "\n",
       "    \n",
       "\n",
       "    \n",
       "\n",
       "    \n",
       "\n",
       "\n",
       "    \n",
       "\n",
       "    \n",
       "\n",
       "    \n",
       "\n",
       "    \n",
       "\n",
       "    \n",
       "        <table class=\"eli5-weights eli5-feature-importances\" style=\"border-collapse: collapse; border: none; margin-top: 0em; table-layout: auto;\">\n",
       "    <thead>\n",
       "    <tr style=\"border: none;\">\n",
       "        <th style=\"padding: 0 1em 0 0.5em; text-align: right; border: none;\">Weight</th>\n",
       "        <th style=\"padding: 0 0.5em 0 0.5em; text-align: left; border: none;\">Feature</th>\n",
       "    </tr>\n",
       "    </thead>\n",
       "    <tbody>\n",
       "    \n",
       "        <tr style=\"background-color: hsl(120, 100.00%, 80.00%); border: none;\">\n",
       "            <td style=\"padding: 0 1em 0 0.5em; text-align: right; border: none;\">\n",
       "                0.3459\n",
       "                \n",
       "                    &plusmn; 0.0316\n",
       "                \n",
       "            </td>\n",
       "            <td style=\"padding: 0 0.5em 0 0.5em; text-align: left; border: none;\">\n",
       "                acoustic_data__number_peaks__n_3\n",
       "            </td>\n",
       "        </tr>\n",
       "    \n",
       "        <tr style=\"background-color: hsl(120, 100.00%, 91.16%); border: none;\">\n",
       "            <td style=\"padding: 0 1em 0 0.5em; text-align: right; border: none;\">\n",
       "                0.1077\n",
       "                \n",
       "                    &plusmn; 0.0124\n",
       "                \n",
       "            </td>\n",
       "            <td style=\"padding: 0 0.5em 0 0.5em; text-align: left; border: none;\">\n",
       "                acoustic_data__benford_correlation\n",
       "            </td>\n",
       "        </tr>\n",
       "    \n",
       "        <tr style=\"background-color: hsl(120, 100.00%, 93.87%); border: none;\">\n",
       "            <td style=\"padding: 0 1em 0 0.5em; text-align: right; border: none;\">\n",
       "                0.0638\n",
       "                \n",
       "                    &plusmn; 0.0067\n",
       "                \n",
       "            </td>\n",
       "            <td style=\"padding: 0 0.5em 0 0.5em; text-align: left; border: none;\">\n",
       "                acoustic_data__permutation_entropy__dimension_7__tau_1\n",
       "            </td>\n",
       "        </tr>\n",
       "    \n",
       "        <tr style=\"background-color: hsl(120, 100.00%, 97.25%); border: none;\">\n",
       "            <td style=\"padding: 0 1em 0 0.5em; text-align: right; border: none;\">\n",
       "                0.0203\n",
       "                \n",
       "                    &plusmn; 0.0023\n",
       "                \n",
       "            </td>\n",
       "            <td style=\"padding: 0 0.5em 0 0.5em; text-align: left; border: none;\">\n",
       "                acoustic_data__c3__lag_1\n",
       "            </td>\n",
       "        </tr>\n",
       "    \n",
       "        <tr style=\"background-color: hsl(120, 100.00%, 97.31%); border: none;\">\n",
       "            <td style=\"padding: 0 1em 0 0.5em; text-align: right; border: none;\">\n",
       "                0.0197\n",
       "                \n",
       "                    &plusmn; 0.0050\n",
       "                \n",
       "            </td>\n",
       "            <td style=\"padding: 0 0.5em 0 0.5em; text-align: left; border: none;\">\n",
       "                acoustic_data__agg_autocorrelation__f_agg_&quot;mean&quot;__maxlag_40\n",
       "            </td>\n",
       "        </tr>\n",
       "    \n",
       "        <tr style=\"background-color: hsl(120, 100.00%, 97.54%); border: none;\">\n",
       "            <td style=\"padding: 0 1em 0 0.5em; text-align: right; border: none;\">\n",
       "                0.0173\n",
       "                \n",
       "                    &plusmn; 0.0037\n",
       "                \n",
       "            </td>\n",
       "            <td style=\"padding: 0 0.5em 0 0.5em; text-align: left; border: none;\">\n",
       "                acoustic_data__ratio_beyond_r_sigma__r_2.5\n",
       "            </td>\n",
       "        </tr>\n",
       "    \n",
       "        <tr style=\"background-color: hsl(120, 100.00%, 97.56%); border: none;\">\n",
       "            <td style=\"padding: 0 1em 0 0.5em; text-align: right; border: none;\">\n",
       "                0.0171\n",
       "                \n",
       "                    &plusmn; 0.0019\n",
       "                \n",
       "            </td>\n",
       "            <td style=\"padding: 0 0.5em 0 0.5em; text-align: left; border: none;\">\n",
       "                acoustic_data__permutation_entropy__dimension_6__tau_1\n",
       "            </td>\n",
       "        </tr>\n",
       "    \n",
       "        <tr style=\"background-color: hsl(120, 100.00%, 97.71%); border: none;\">\n",
       "            <td style=\"padding: 0 1em 0 0.5em; text-align: right; border: none;\">\n",
       "                0.0157\n",
       "                \n",
       "                    &plusmn; 0.0036\n",
       "                \n",
       "            </td>\n",
       "            <td style=\"padding: 0 0.5em 0 0.5em; text-align: left; border: none;\">\n",
       "                acoustic_data__change_quantiles__f_agg_&quot;var&quot;__isabs_True__qh_0.8__ql_0.4\n",
       "            </td>\n",
       "        </tr>\n",
       "    \n",
       "        <tr style=\"background-color: hsl(120, 100.00%, 97.74%); border: none;\">\n",
       "            <td style=\"padding: 0 1em 0 0.5em; text-align: right; border: none;\">\n",
       "                0.0153\n",
       "                \n",
       "                    &plusmn; 0.0022\n",
       "                \n",
       "            </td>\n",
       "            <td style=\"padding: 0 0.5em 0 0.5em; text-align: left; border: none;\">\n",
       "                acoustic_data__number_crossing_m__m_-1\n",
       "            </td>\n",
       "        </tr>\n",
       "    \n",
       "        <tr style=\"background-color: hsl(120, 100.00%, 97.90%); border: none;\">\n",
       "            <td style=\"padding: 0 1em 0 0.5em; text-align: right; border: none;\">\n",
       "                0.0138\n",
       "                \n",
       "                    &plusmn; 0.0023\n",
       "                \n",
       "            </td>\n",
       "            <td style=\"padding: 0 0.5em 0 0.5em; text-align: left; border: none;\">\n",
       "                acoustic_data__change_quantiles__f_agg_&quot;mean&quot;__isabs_True__qh_1.0__ql_0.2\n",
       "            </td>\n",
       "        </tr>\n",
       "    \n",
       "        <tr style=\"background-color: hsl(120, 100.00%, 97.95%); border: none;\">\n",
       "            <td style=\"padding: 0 1em 0 0.5em; text-align: right; border: none;\">\n",
       "                0.0134\n",
       "                \n",
       "                    &plusmn; 0.0029\n",
       "                \n",
       "            </td>\n",
       "            <td style=\"padding: 0 0.5em 0 0.5em; text-align: left; border: none;\">\n",
       "                acoustic_data__agg_autocorrelation__f_agg_&quot;median&quot;__maxlag_40\n",
       "            </td>\n",
       "        </tr>\n",
       "    \n",
       "        <tr style=\"background-color: hsl(120, 100.00%, 97.95%); border: none;\">\n",
       "            <td style=\"padding: 0 1em 0 0.5em; text-align: right; border: none;\">\n",
       "                0.0133\n",
       "                \n",
       "                    &plusmn; 0.0013\n",
       "                \n",
       "            </td>\n",
       "            <td style=\"padding: 0 0.5em 0 0.5em; text-align: left; border: none;\">\n",
       "                acoustic_data__number_peaks__n_5\n",
       "            </td>\n",
       "        </tr>\n",
       "    \n",
       "        <tr style=\"background-color: hsl(120, 100.00%, 97.96%); border: none;\">\n",
       "            <td style=\"padding: 0 1em 0 0.5em; text-align: right; border: none;\">\n",
       "                0.0132\n",
       "                \n",
       "                    &plusmn; 0.0035\n",
       "                \n",
       "            </td>\n",
       "            <td style=\"padding: 0 0.5em 0 0.5em; text-align: left; border: none;\">\n",
       "                acoustic_data__change_quantiles__f_agg_&quot;mean&quot;__isabs_True__qh_1.0__ql_0.4\n",
       "            </td>\n",
       "        </tr>\n",
       "    \n",
       "        <tr style=\"background-color: hsl(120, 100.00%, 98.14%); border: none;\">\n",
       "            <td style=\"padding: 0 1em 0 0.5em; text-align: right; border: none;\">\n",
       "                0.0117\n",
       "                \n",
       "                    &plusmn; 0.0018\n",
       "                \n",
       "            </td>\n",
       "            <td style=\"padding: 0 0.5em 0 0.5em; text-align: left; border: none;\">\n",
       "                acoustic_data__spkt_welch_density__coeff_8\n",
       "            </td>\n",
       "        </tr>\n",
       "    \n",
       "        <tr style=\"background-color: hsl(120, 100.00%, 98.14%); border: none;\">\n",
       "            <td style=\"padding: 0 1em 0 0.5em; text-align: right; border: none;\">\n",
       "                0.0116\n",
       "                \n",
       "                    &plusmn; 0.0076\n",
       "                \n",
       "            </td>\n",
       "            <td style=\"padding: 0 0.5em 0 0.5em; text-align: left; border: none;\">\n",
       "                acoustic_data__ratio_beyond_r_sigma__r_0.5\n",
       "            </td>\n",
       "        </tr>\n",
       "    \n",
       "        <tr style=\"background-color: hsl(120, 100.00%, 98.20%); border: none;\">\n",
       "            <td style=\"padding: 0 1em 0 0.5em; text-align: right; border: none;\">\n",
       "                0.0111\n",
       "                \n",
       "                    &plusmn; 0.0018\n",
       "                \n",
       "            </td>\n",
       "            <td style=\"padding: 0 0.5em 0 0.5em; text-align: left; border: none;\">\n",
       "                acoustic_data__root_mean_square\n",
       "            </td>\n",
       "        </tr>\n",
       "    \n",
       "        <tr style=\"background-color: hsl(120, 100.00%, 98.27%); border: none;\">\n",
       "            <td style=\"padding: 0 1em 0 0.5em; text-align: right; border: none;\">\n",
       "                0.0105\n",
       "                \n",
       "                    &plusmn; 0.0020\n",
       "                \n",
       "            </td>\n",
       "            <td style=\"padding: 0 0.5em 0 0.5em; text-align: left; border: none;\">\n",
       "                acoustic_data__augmented_dickey_fuller__attr_&quot;teststat&quot;__autolag_&quot;AIC&quot;\n",
       "            </td>\n",
       "        </tr>\n",
       "    \n",
       "        <tr style=\"background-color: hsl(120, 100.00%, 98.33%); border: none;\">\n",
       "            <td style=\"padding: 0 1em 0 0.5em; text-align: right; border: none;\">\n",
       "                0.0100\n",
       "                \n",
       "                    &plusmn; 0.0011\n",
       "                \n",
       "            </td>\n",
       "            <td style=\"padding: 0 0.5em 0 0.5em; text-align: left; border: none;\">\n",
       "                acoustic_data__c3__lag_3\n",
       "            </td>\n",
       "        </tr>\n",
       "    \n",
       "        <tr style=\"background-color: hsl(120, 100.00%, 98.35%); border: none;\">\n",
       "            <td style=\"padding: 0 1em 0 0.5em; text-align: right; border: none;\">\n",
       "                0.0098\n",
       "                \n",
       "                    &plusmn; 0.0017\n",
       "                \n",
       "            </td>\n",
       "            <td style=\"padding: 0 0.5em 0 0.5em; text-align: left; border: none;\">\n",
       "                acoustic_data__spkt_welch_density__coeff_2\n",
       "            </td>\n",
       "        </tr>\n",
       "    \n",
       "        <tr style=\"background-color: hsl(120, 100.00%, 98.46%); border: none;\">\n",
       "            <td style=\"padding: 0 1em 0 0.5em; text-align: right; border: none;\">\n",
       "                0.0089\n",
       "                \n",
       "                    &plusmn; 0.0015\n",
       "                \n",
       "            </td>\n",
       "            <td style=\"padding: 0 0.5em 0 0.5em; text-align: left; border: none;\">\n",
       "                acoustic_data__count_below__t_0\n",
       "            </td>\n",
       "        </tr>\n",
       "    \n",
       "    \n",
       "        \n",
       "            <tr style=\"background-color: hsl(120, 100.00%, 98.46%); border: none;\">\n",
       "                <td colspan=\"2\" style=\"padding: 0 0.5em 0 0.5em; text-align: center; border: none; white-space: nowrap;\">\n",
       "                    <i>&hellip; 145 more &hellip;</i>\n",
       "                </td>\n",
       "            </tr>\n",
       "        \n",
       "    \n",
       "    </tbody>\n",
       "</table>\n",
       "    \n",
       "\n",
       "    \n",
       "\n",
       "\n",
       "    \n",
       "\n",
       "    \n",
       "\n",
       "    \n",
       "\n",
       "    \n",
       "\n",
       "    \n",
       "\n",
       "    \n",
       "\n",
       "\n",
       "\n"
      ],
      "text/plain": [
       "<IPython.core.display.HTML object>"
      ]
     },
     "execution_count": 81,
     "metadata": {},
     "output_type": "execute_result"
    }
   ],
   "source": [
    "##We will now determine the feature importance of our extracted features using various ML models like\n",
    "#Random Forest Regressor and Extra Trees Regressor respectively.\n",
    "\n",
    "import eli5\n",
    "from eli5.sklearn import PermutationImportance\n",
    "from sklearn.ensemble import RandomForestRegressor as rf\n",
    "\n",
    "perm = PermutationImportance(rf(n_estimators=100, random_state=12345).fit(small_feat_set,y),random_state=56789).fit(small_feat_set,y)\n",
    "eli5.show_weights(perm, feature_names = small_feat_set.columns.tolist())\n",
    "\n"
   ]
  },
  {
   "cell_type": "code",
   "execution_count": 70,
   "metadata": {},
   "outputs": [
    {
     "name": "stderr",
     "output_type": "stream",
     "text": [
      "<ipython-input-70-42f05acbc14a>:3: DataConversionWarning: A column-vector y was passed when a 1d array was expected. Please change the shape of y to (n_samples,), for example using ravel().\n",
      "  perm = PermutationImportance(et(max_features='auto').fit(small_feat_set,y),random_state=12345).fit(small_feat_set,y)\n"
     ]
    },
    {
     "data": {
      "text/html": [
       "\n",
       "    <style>\n",
       "    table.eli5-weights tr:hover {\n",
       "        filter: brightness(85%);\n",
       "    }\n",
       "</style>\n",
       "\n",
       "\n",
       "\n",
       "    \n",
       "\n",
       "    \n",
       "\n",
       "    \n",
       "\n",
       "    \n",
       "\n",
       "    \n",
       "\n",
       "    \n",
       "\n",
       "\n",
       "    \n",
       "\n",
       "    \n",
       "\n",
       "    \n",
       "\n",
       "    \n",
       "\n",
       "    \n",
       "\n",
       "    \n",
       "\n",
       "\n",
       "    \n",
       "\n",
       "    \n",
       "\n",
       "    \n",
       "\n",
       "    \n",
       "\n",
       "    \n",
       "        <table class=\"eli5-weights eli5-feature-importances\" style=\"border-collapse: collapse; border: none; margin-top: 0em; table-layout: auto;\">\n",
       "    <thead>\n",
       "    <tr style=\"border: none;\">\n",
       "        <th style=\"padding: 0 1em 0 0.5em; text-align: right; border: none;\">Weight</th>\n",
       "        <th style=\"padding: 0 0.5em 0 0.5em; text-align: left; border: none;\">Feature</th>\n",
       "    </tr>\n",
       "    </thead>\n",
       "    <tbody>\n",
       "    \n",
       "        <tr style=\"background-color: hsl(120, 100.00%, 80.00%); border: none;\">\n",
       "            <td style=\"padding: 0 1em 0 0.5em; text-align: right; border: none;\">\n",
       "                0.0975\n",
       "                \n",
       "                    &plusmn; 0.0093\n",
       "                \n",
       "            </td>\n",
       "            <td style=\"padding: 0 0.5em 0 0.5em; text-align: left; border: none;\">\n",
       "                acoustic_data__benford_correlation\n",
       "            </td>\n",
       "        </tr>\n",
       "    \n",
       "        <tr style=\"background-color: hsl(120, 100.00%, 80.16%); border: none;\">\n",
       "            <td style=\"padding: 0 1em 0 0.5em; text-align: right; border: none;\">\n",
       "                0.0963\n",
       "                \n",
       "                    &plusmn; 0.0168\n",
       "                \n",
       "            </td>\n",
       "            <td style=\"padding: 0 0.5em 0 0.5em; text-align: left; border: none;\">\n",
       "                acoustic_data__quantile__q_0.1\n",
       "            </td>\n",
       "        </tr>\n",
       "    \n",
       "        <tr style=\"background-color: hsl(120, 100.00%, 81.99%); border: none;\">\n",
       "            <td style=\"padding: 0 1em 0 0.5em; text-align: right; border: none;\">\n",
       "                0.0839\n",
       "                \n",
       "                    &plusmn; 0.0094\n",
       "                \n",
       "            </td>\n",
       "            <td style=\"padding: 0 0.5em 0 0.5em; text-align: left; border: none;\">\n",
       "                acoustic_data__number_peaks__n_3\n",
       "            </td>\n",
       "        </tr>\n",
       "    \n",
       "        <tr style=\"background-color: hsl(120, 100.00%, 94.22%); border: none;\">\n",
       "            <td style=\"padding: 0 1em 0 0.5em; text-align: right; border: none;\">\n",
       "                0.0165\n",
       "                \n",
       "                    &plusmn; 0.0019\n",
       "                \n",
       "            </td>\n",
       "            <td style=\"padding: 0 0.5em 0 0.5em; text-align: left; border: none;\">\n",
       "                acoustic_data__number_peaks__n_5\n",
       "            </td>\n",
       "        </tr>\n",
       "    \n",
       "        <tr style=\"background-color: hsl(120, 100.00%, 94.42%); border: none;\">\n",
       "            <td style=\"padding: 0 1em 0 0.5em; text-align: right; border: none;\">\n",
       "                0.0157\n",
       "                \n",
       "                    &plusmn; 0.0019\n",
       "                \n",
       "            </td>\n",
       "            <td style=\"padding: 0 0.5em 0 0.5em; text-align: left; border: none;\">\n",
       "                acoustic_data__permutation_entropy__dimension_7__tau_1\n",
       "            </td>\n",
       "        </tr>\n",
       "    \n",
       "        <tr style=\"background-color: hsl(120, 100.00%, 94.99%); border: none;\">\n",
       "            <td style=\"padding: 0 1em 0 0.5em; text-align: right; border: none;\">\n",
       "                0.0135\n",
       "                \n",
       "                    &plusmn; 0.0011\n",
       "                \n",
       "            </td>\n",
       "            <td style=\"padding: 0 0.5em 0 0.5em; text-align: left; border: none;\">\n",
       "                acoustic_data__change_quantiles__f_agg_&quot;mean&quot;__isabs_True__qh_1.0__ql_0.4\n",
       "            </td>\n",
       "        </tr>\n",
       "    \n",
       "        <tr style=\"background-color: hsl(120, 100.00%, 95.83%); border: none;\">\n",
       "            <td style=\"padding: 0 1em 0 0.5em; text-align: right; border: none;\">\n",
       "                0.0104\n",
       "                \n",
       "                    &plusmn; 0.0010\n",
       "                \n",
       "            </td>\n",
       "            <td style=\"padding: 0 0.5em 0 0.5em; text-align: left; border: none;\">\n",
       "                acoustic_data__quantile__q_0.9\n",
       "            </td>\n",
       "        </tr>\n",
       "    \n",
       "        <tr style=\"background-color: hsl(120, 100.00%, 95.98%); border: none;\">\n",
       "            <td style=\"padding: 0 1em 0 0.5em; text-align: right; border: none;\">\n",
       "                0.0099\n",
       "                \n",
       "                    &plusmn; 0.0023\n",
       "                \n",
       "            </td>\n",
       "            <td style=\"padding: 0 0.5em 0 0.5em; text-align: left; border: none;\">\n",
       "                acoustic_data__ar_coefficient__coeff_5__k_10\n",
       "            </td>\n",
       "        </tr>\n",
       "    \n",
       "        <tr style=\"background-color: hsl(120, 100.00%, 96.54%); border: none;\">\n",
       "            <td style=\"padding: 0 1em 0 0.5em; text-align: right; border: none;\">\n",
       "                0.0079\n",
       "                \n",
       "                    &plusmn; 0.0010\n",
       "                \n",
       "            </td>\n",
       "            <td style=\"padding: 0 0.5em 0 0.5em; text-align: left; border: none;\">\n",
       "                acoustic_data__permutation_entropy__dimension_4__tau_1\n",
       "            </td>\n",
       "        </tr>\n",
       "    \n",
       "        <tr style=\"background-color: hsl(120, 100.00%, 96.72%); border: none;\">\n",
       "            <td style=\"padding: 0 1em 0 0.5em; text-align: right; border: none;\">\n",
       "                0.0074\n",
       "                \n",
       "                    &plusmn; 0.0013\n",
       "                \n",
       "            </td>\n",
       "            <td style=\"padding: 0 0.5em 0 0.5em; text-align: left; border: none;\">\n",
       "                acoustic_data__permutation_entropy__dimension_5__tau_1\n",
       "            </td>\n",
       "        </tr>\n",
       "    \n",
       "        <tr style=\"background-color: hsl(120, 100.00%, 96.94%); border: none;\">\n",
       "            <td style=\"padding: 0 1em 0 0.5em; text-align: right; border: none;\">\n",
       "                0.0067\n",
       "                \n",
       "                    &plusmn; 0.0006\n",
       "                \n",
       "            </td>\n",
       "            <td style=\"padding: 0 0.5em 0 0.5em; text-align: left; border: none;\">\n",
       "                acoustic_data__quantile__q_0.8\n",
       "            </td>\n",
       "        </tr>\n",
       "    \n",
       "        <tr style=\"background-color: hsl(120, 100.00%, 97.11%); border: none;\">\n",
       "            <td style=\"padding: 0 1em 0 0.5em; text-align: right; border: none;\">\n",
       "                0.0062\n",
       "                \n",
       "                    &plusmn; 0.0007\n",
       "                \n",
       "            </td>\n",
       "            <td style=\"padding: 0 0.5em 0 0.5em; text-align: left; border: none;\">\n",
       "                acoustic_data__permutation_entropy__dimension_6__tau_1\n",
       "            </td>\n",
       "        </tr>\n",
       "    \n",
       "        <tr style=\"background-color: hsl(120, 100.00%, 97.25%); border: none;\">\n",
       "            <td style=\"padding: 0 1em 0 0.5em; text-align: right; border: none;\">\n",
       "                0.0057\n",
       "                \n",
       "                    &plusmn; 0.0013\n",
       "                \n",
       "            </td>\n",
       "            <td style=\"padding: 0 0.5em 0 0.5em; text-align: left; border: none;\">\n",
       "                acoustic_data__count_below__t_0\n",
       "            </td>\n",
       "        </tr>\n",
       "    \n",
       "        <tr style=\"background-color: hsl(120, 100.00%, 98.03%); border: none;\">\n",
       "            <td style=\"padding: 0 1em 0 0.5em; text-align: right; border: none;\">\n",
       "                0.0036\n",
       "                \n",
       "                    &plusmn; 0.0007\n",
       "                \n",
       "            </td>\n",
       "            <td style=\"padding: 0 0.5em 0 0.5em; text-align: left; border: none;\">\n",
       "                acoustic_data__ratio_beyond_r_sigma__r_6\n",
       "            </td>\n",
       "        </tr>\n",
       "    \n",
       "        <tr style=\"background-color: hsl(120, 100.00%, 98.03%); border: none;\">\n",
       "            <td style=\"padding: 0 1em 0 0.5em; text-align: right; border: none;\">\n",
       "                0.0036\n",
       "                \n",
       "                    &plusmn; 0.0005\n",
       "                \n",
       "            </td>\n",
       "            <td style=\"padding: 0 0.5em 0 0.5em; text-align: left; border: none;\">\n",
       "                acoustic_data__change_quantiles__f_agg_&quot;var&quot;__isabs_False__qh_0.8__ql_0.2\n",
       "            </td>\n",
       "        </tr>\n",
       "    \n",
       "        <tr style=\"background-color: hsl(120, 100.00%, 98.05%); border: none;\">\n",
       "            <td style=\"padding: 0 1em 0 0.5em; text-align: right; border: none;\">\n",
       "                0.0035\n",
       "                \n",
       "                    &plusmn; 0.0003\n",
       "                \n",
       "            </td>\n",
       "            <td style=\"padding: 0 0.5em 0 0.5em; text-align: left; border: none;\">\n",
       "                acoustic_data__c3__lag_1\n",
       "            </td>\n",
       "        </tr>\n",
       "    \n",
       "        <tr style=\"background-color: hsl(120, 100.00%, 98.13%); border: none;\">\n",
       "            <td style=\"padding: 0 1em 0 0.5em; text-align: right; border: none;\">\n",
       "                0.0033\n",
       "                \n",
       "                    &plusmn; 0.0010\n",
       "                \n",
       "            </td>\n",
       "            <td style=\"padding: 0 0.5em 0 0.5em; text-align: left; border: none;\">\n",
       "                acoustic_data__value_count__value_0\n",
       "            </td>\n",
       "        </tr>\n",
       "    \n",
       "        <tr style=\"background-color: hsl(120, 100.00%, 98.15%); border: none;\">\n",
       "            <td style=\"padding: 0 1em 0 0.5em; text-align: right; border: none;\">\n",
       "                0.0032\n",
       "                \n",
       "                    &plusmn; 0.0006\n",
       "                \n",
       "            </td>\n",
       "            <td style=\"padding: 0 0.5em 0 0.5em; text-align: left; border: none;\">\n",
       "                acoustic_data__range_count__max_1__min_-1\n",
       "            </td>\n",
       "        </tr>\n",
       "    \n",
       "        <tr style=\"background-color: hsl(120, 100.00%, 98.36%); border: none;\">\n",
       "            <td style=\"padding: 0 1em 0 0.5em; text-align: right; border: none;\">\n",
       "                0.0027\n",
       "                \n",
       "                    &plusmn; 0.0007\n",
       "                \n",
       "            </td>\n",
       "            <td style=\"padding: 0 0.5em 0 0.5em; text-align: left; border: none;\">\n",
       "                acoustic_data__number_cwt_peaks__n_1\n",
       "            </td>\n",
       "        </tr>\n",
       "    \n",
       "        <tr style=\"background-color: hsl(120, 100.00%, 98.39%); border: none;\">\n",
       "            <td style=\"padding: 0 1em 0 0.5em; text-align: right; border: none;\">\n",
       "                0.0027\n",
       "                \n",
       "                    &plusmn; 0.0002\n",
       "                \n",
       "            </td>\n",
       "            <td style=\"padding: 0 0.5em 0 0.5em; text-align: left; border: none;\">\n",
       "                acoustic_data__number_crossing_m__m_-1\n",
       "            </td>\n",
       "        </tr>\n",
       "    \n",
       "    \n",
       "        \n",
       "            <tr style=\"background-color: hsl(120, 100.00%, 98.39%); border: none;\">\n",
       "                <td colspan=\"2\" style=\"padding: 0 0.5em 0 0.5em; text-align: center; border: none; white-space: nowrap;\">\n",
       "                    <i>&hellip; 145 more &hellip;</i>\n",
       "                </td>\n",
       "            </tr>\n",
       "        \n",
       "    \n",
       "    </tbody>\n",
       "</table>\n",
       "    \n",
       "\n",
       "    \n",
       "\n",
       "\n",
       "    \n",
       "\n",
       "    \n",
       "\n",
       "    \n",
       "\n",
       "    \n",
       "\n",
       "    \n",
       "\n",
       "    \n",
       "\n",
       "\n",
       "\n"
      ],
      "text/plain": [
       "<IPython.core.display.HTML object>"
      ]
     },
     "execution_count": 70,
     "metadata": {},
     "output_type": "execute_result"
    }
   ],
   "source": [
    "from sklearn.ensemble import ExtraTreesRegressor as et\n",
    "\n",
    "perm = PermutationImportance(et(max_features='auto').fit(small_feat_set,y),random_state=12345).fit(small_feat_set,y)\n",
    "eli5.show_weights(perm, feature_names = small_feat_set.columns.tolist())"
   ]
  },
  {
   "cell_type": "markdown",
   "metadata": {},
   "source": [
    "## Deep learning modeling time to failure with "
   ]
  },
  {
   "cell_type": "code",
   "execution_count": 97,
   "metadata": {},
   "outputs": [],
   "source": [
    "small_feat_set.to_csv('small_feat_set.csv', index=False)"
   ]
  },
  {
   "cell_type": "code",
   "execution_count": 76,
   "metadata": {},
   "outputs": [],
   "source": [
    "small_feat_set=pd.read_csv('small_feat_set.csv')"
   ]
  },
  {
   "cell_type": "code",
   "execution_count": 79,
   "metadata": {},
   "outputs": [
    {
     "name": "stdout",
     "output_type": "stream",
     "text": [
      "<class 'pandas.core.frame.DataFrame'>\n",
      "RangeIndex: 400 entries, 0 to 399\n",
      "Columns: 165 entries, acoustic_data__number_peaks__n_3 to acoustic_data__ratio_beyond_r_sigma__r_6\n",
      "dtypes: float64(165)\n",
      "memory usage: 515.8 KB\n"
     ]
    }
   ],
   "source": [
    "small_feat_set.info()"
   ]
  },
  {
   "cell_type": "code",
   "execution_count": 61,
   "metadata": {},
   "outputs": [],
   "source": [
    "\n",
    "plt.rcParams['xtick.labelsize']=15\n",
    "plt.rcParams['ytick.labelsize']=15\n",
    "plt.rcParams['figure.figsize'] = (15,9)"
   ]
  },
  {
   "cell_type": "code",
   "execution_count": 62,
   "metadata": {},
   "outputs": [],
   "source": [
    "import tensorflow.python.keras.utils as generic_utils"
   ]
  },
  {
   "cell_type": "code",
   "execution_count": 63,
   "metadata": {},
   "outputs": [],
   "source": [
    "import tensorflow as tf"
   ]
  },
  {
   "cell_type": "code",
   "execution_count": 64,
   "metadata": {},
   "outputs": [],
   "source": [
    "from tensorflow.keras import Sequential,layers,callbacks\n",
    "from tensorflow.keras.models import load_model\n",
    "from tensorflow.keras.layers import Dense,LSTM,GRU,Activation, Dropout,Bidirectional\n"
   ]
  },
  {
   "cell_type": "code",
   "execution_count": 65,
   "metadata": {},
   "outputs": [],
   "source": [
    "from tensorflow.keras import optimizers"
   ]
  },
  {
   "cell_type": "code",
   "execution_count": 66,
   "metadata": {},
   "outputs": [],
   "source": [
    "\n",
    "from sklearn.preprocessing import MinMaxScaler\n",
    "import matplotlib.pyplot as plt\n",
    "plt.style.use('fivethirtyeight')"
   ]
  },
  {
   "cell_type": "code",
   "execution_count": 67,
   "metadata": {},
   "outputs": [],
   "source": [
    "import numpy as np # linear algebra\n",
    "from numpy import newaxis\n",
    "import pandas as pd "
   ]
  },
  {
   "cell_type": "code",
   "execution_count": 68,
   "metadata": {},
   "outputs": [],
   "source": [
    "feature_train=small_feat_set"
   ]
  },
  {
   "cell_type": "code",
   "execution_count": 69,
   "metadata": {},
   "outputs": [
    {
     "data": {
      "text/plain": [
       "400"
      ]
     },
     "execution_count": 69,
     "metadata": {},
     "output_type": "execute_result"
    }
   ],
   "source": [
    "feature_train.shape[0]"
   ]
  },
  {
   "cell_type": "code",
   "execution_count": 70,
   "metadata": {},
   "outputs": [],
   "source": [
    "# Set random seed for reproducibility\n",
    "tf.random.set_seed(1234)"
   ]
  },
  {
   "cell_type": "code",
   "execution_count": 71,
   "metadata": {},
   "outputs": [
    {
     "data": {
      "text/plain": [
       "Index(['acoustic_data__number_peaks__n_3',\n",
       "       'acoustic_data__permutation_entropy__dimension_7__tau_1',\n",
       "       'acoustic_data__permutation_entropy__dimension_6__tau_1',\n",
       "       'acoustic_data__permutation_entropy__dimension_5__tau_1',\n",
       "       'acoustic_data__number_peaks__n_5',\n",
       "       'acoustic_data__benford_correlation',\n",
       "       'acoustic_data__permutation_entropy__dimension_4__tau_1',\n",
       "       'acoustic_data__permutation_entropy__dimension_3__tau_1',\n",
       "       'acoustic_data__number_peaks__n_1',\n",
       "       'acoustic_data__range_count__max_1000000000000.0__min_0',\n",
       "       ...\n",
       "       'acoustic_data__sum_of_reoccurring_values',\n",
       "       'acoustic_data__change_quantiles__f_agg_\"mean\"__isabs_True__qh_0.8__ql_0.6',\n",
       "       'acoustic_data__autocorrelation__lag_6',\n",
       "       'acoustic_data__energy_ratio_by_chunks__num_segments_10__segment_focus_8',\n",
       "       'acoustic_data__ar_coefficient__coeff_7__k_10',\n",
       "       'acoustic_data__lempel_ziv_complexity__bins_10',\n",
       "       'acoustic_data__matrix_profile__feature_\"median\"__threshold_0.98',\n",
       "       'acoustic_data__index_mass_quantile__q_0.8',\n",
       "       'acoustic_data__index_mass_quantile__q_0.9',\n",
       "       'acoustic_data__ratio_beyond_r_sigma__r_6'],\n",
       "      dtype='object', length=165)"
      ]
     },
     "execution_count": 71,
     "metadata": {},
     "output_type": "execute_result"
    }
   ],
   "source": [
    "feature_train.columns"
   ]
  },
  {
   "cell_type": "code",
   "execution_count": 72,
   "metadata": {},
   "outputs": [],
   "source": [
    "y=pd.read_csv('y_max.csv')"
   ]
  },
  {
   "cell_type": "code",
   "execution_count": 73,
   "metadata": {},
   "outputs": [
    {
     "name": "stdout",
     "output_type": "stream",
     "text": [
      "[[ 0.08481262  0.64110471  0.66499973 ...  0.04928824 -0.06153443\n",
      "   0.04859335]\n",
      " [ 0.41617357  0.78005884  0.79646192 ...  0.26141693  0.13537575\n",
      "  -0.36061381]\n",
      " [ 0.46351085  0.84770876  0.8621819  ...  0.34567596  0.11259492\n",
      "  -0.97953964]\n",
      " ...\n",
      " [ 0.41715976  0.82427159  0.83641992 ...  0.26075866  0.27284629\n",
      "  -0.4629156 ]\n",
      " [ 0.47731755  0.81953113  0.83034412 ...  0.1834115   0.04399057\n",
      "  -0.2685422 ]\n",
      " [ 0.31459566  0.74172407  0.75470588 ... -0.00106969 -0.06258183\n",
      "  -0.02813299]]\n",
      "[[-0.7476335 ]\n",
      " [-0.74983736]\n",
      " [-0.75205857]\n",
      " [-0.75427977]\n",
      " [-0.75648363]\n",
      " [-0.75889493]\n",
      " [-0.76109878]\n",
      " [-0.76331999]\n",
      " [-0.7655412 ]\n",
      " [-0.76774506]\n",
      " [-0.77015635]\n",
      " [-0.77236021]\n",
      " [-0.77458142]\n",
      " [-0.77680262]\n",
      " [-0.77900648]\n",
      " [-0.78141778]\n",
      " [-0.78362163]\n",
      " [-0.78584284]\n",
      " [-0.78806405]\n",
      " [-0.7902679 ]\n",
      " [-0.7926792 ]\n",
      " [-0.79488306]\n",
      " [-0.79710427]\n",
      " [-0.79932547]\n",
      " [-0.80152933]\n",
      " [-0.80394063]\n",
      " [-0.80614448]\n",
      " [-0.80836569]\n",
      " [-0.8105869 ]\n",
      " [-0.81298084]\n",
      " [-0.81520205]\n",
      " [-0.81740591]\n",
      " [-0.81962712]\n",
      " [-0.82184832]\n",
      " [-0.82424227]\n",
      " [-0.82646348]\n",
      " [-0.82868468]\n",
      " [-0.83088854]\n",
      " [-0.83310975]\n",
      " [-0.83550369]\n",
      " [-0.8377249 ]\n",
      " [-0.83994611]\n",
      " [-0.84214996]\n",
      " [-0.84437117]\n",
      " [-0.84676512]\n",
      " [-0.84898633]\n",
      " [-0.85120753]\n",
      " [-0.85341139]\n",
      " [-0.8556326 ]\n",
      " [-0.85802654]\n",
      " [-0.86024775]\n",
      " [-0.86246896]\n",
      " [-0.86467281]\n",
      " [-0.86689402]\n",
      " [-0.86928797]\n",
      " [-0.87150918]\n",
      " [-0.87373038]\n",
      " [-0.87593424]\n",
      " [-0.87834554]\n",
      " [-0.88054939]\n",
      " [-0.8827706 ]\n",
      " [-0.88499181]\n",
      " [-0.88719566]\n",
      " [-0.88960696]\n",
      " [-0.89181082]\n",
      " [-0.89403202]\n",
      " [-0.89625323]\n",
      " [-0.89845709]\n",
      " [-0.90086839]\n",
      " [-0.90307224]\n",
      " [-0.90529345]\n",
      " [-0.90751466]\n",
      " [-0.90971851]\n",
      " [-0.91212981]\n",
      " [-0.91433367]\n",
      " [-0.91655487]\n",
      " [-0.91877608]\n",
      " [-0.92097994]\n",
      " [-0.92339123]\n",
      " [-0.92559509]\n",
      " [-0.9278163 ]\n",
      " [-0.93003751]\n",
      " [-0.93225871]\n",
      " [-0.93465266]\n",
      " [-0.93687387]\n",
      " [-0.93907772]\n",
      " [-0.94129893]\n",
      " [-0.94369288]\n",
      " [-0.94591408]\n",
      " [-0.94813529]\n",
      " [-0.95033915]\n",
      " [-0.95256036]\n",
      " [-0.9549543 ]\n",
      " [-0.95717551]\n",
      " [-0.95939672]\n",
      " [-0.96160057]\n",
      " [-0.96382178]\n",
      " [-0.96621573]\n",
      " [-0.96843693]\n",
      " [-0.97065814]\n",
      " [-0.972862  ]\n",
      " [-0.97508321]\n",
      " [-0.97747715]\n",
      " [-0.97969836]\n",
      " [-0.98191957]\n",
      " [-0.98412342]\n",
      " [-0.98634463]\n",
      " [-0.98873858]\n",
      " [-0.99095978]\n",
      " [-0.99318099]\n",
      " [-0.99538485]\n",
      " [-0.99760605]\n",
      " [-1.        ]\n",
      " [ 1.        ]\n",
      " [ 0.99814287]\n",
      " [ 0.99593902]\n",
      " [ 0.99352772]\n",
      " [ 0.99132386]\n",
      " [ 0.98910266]\n",
      " [ 0.98688145]\n",
      " [ 0.98467759]\n",
      " [ 0.9822663 ]\n",
      " [ 0.98006244]\n",
      " [ 0.97784123]\n",
      " [ 0.97562002]\n",
      " [ 0.97341617]\n",
      " [ 0.97100487]\n",
      " [ 0.96880102]\n",
      " [ 0.96657981]\n",
      " [ 0.9643586 ]\n",
      " [ 0.96213739]\n",
      " [ 0.95974345]\n",
      " [ 0.95752224]\n",
      " [ 0.95531838]\n",
      " [ 0.95309717]\n",
      " [ 0.95087597]\n",
      " [ 0.94848202]\n",
      " [ 0.94626081]\n",
      " [ 0.94405696]\n",
      " [ 0.94183575]\n",
      " [ 0.93961454]\n",
      " [ 0.9372206 ]\n",
      " [ 0.93499939]\n",
      " [ 0.93279553]\n",
      " [ 0.93057433]\n",
      " [ 0.92818038]\n",
      " [ 0.92595917]\n",
      " [ 0.92373796]\n",
      " [ 0.92153411]\n",
      " [ 0.9193129 ]\n",
      " [ 0.91691896]\n",
      " [ 0.91469775]\n",
      " [ 0.91247654]\n",
      " [ 0.91027268]\n",
      " [ 0.90805148]\n",
      " [ 0.90565753]\n",
      " [ 0.90343632]\n",
      " [ 0.90121512]\n",
      " [ 0.89901126]\n",
      " [ 0.89679005]\n",
      " [ 0.89439611]\n",
      " [ 0.8921749 ]\n",
      " [ 0.88995369]\n",
      " [ 0.88774983]\n",
      " [ 0.88552863]\n",
      " [ 0.88313468]\n",
      " [ 0.88091347]\n",
      " [ 0.87869227]\n",
      " [ 0.87648841]\n",
      " [ 0.8742672 ]\n",
      " [ 0.87187326]\n",
      " [ 0.86965205]\n",
      " [ 0.86743084]\n",
      " [ 0.86522699]\n",
      " [ 0.86281569]\n",
      " [ 0.86061183]\n",
      " [ 0.85839062]\n",
      " [ 0.85616942]\n",
      " [ 0.85394821]\n",
      " [ 0.85155426]\n",
      " [ 0.84933306]\n",
      " [ 0.8471292 ]\n",
      " [ 0.84490799]\n",
      " [ 0.84268678]\n",
      " [ 0.84029284]\n",
      " [ 0.83807163]\n",
      " [ 0.83586777]\n",
      " [ 0.83364657]\n",
      " [ 0.83142536]\n",
      " [ 0.82903141]\n",
      " [ 0.82681021]\n",
      " [ 0.82460635]\n",
      " [ 0.82238514]\n",
      " [ 0.82016393]\n",
      " [ 0.81776999]\n",
      " [ 0.81554878]\n",
      " [ 0.81334493]\n",
      " [ 0.81112372]\n",
      " [ 0.80890251]\n",
      " [ 0.80650856]\n",
      " [ 0.80428736]\n",
      " [ 0.8020835 ]\n",
      " [ 0.79986229]\n",
      " [ 0.79746835]\n",
      " [ 0.79524714]\n",
      " [ 0.79302593]\n",
      " [ 0.79082208]\n",
      " [ 0.78860087]\n",
      " [ 0.78620692]\n",
      " [ 0.78398571]\n",
      " [ 0.78176451]\n",
      " [ 0.77956065]\n",
      " [ 0.77733944]\n",
      " [ 0.7749455 ]\n",
      " [ 0.77272429]\n",
      " [ 0.77050308]\n",
      " [ 0.76829923]\n",
      " [ 0.76607802]\n",
      " [ 0.76368407]\n",
      " [ 0.76146287]\n",
      " [ 0.75924166]\n",
      " [ 0.7570378 ]\n",
      " [ 0.75481659]\n",
      " [ 0.75242265]\n",
      " [ 0.75020144]\n",
      " [ 0.74798023]\n",
      " [ 0.74575902]\n",
      " [ 0.74355517]\n",
      " [ 0.74114387]\n",
      " [ 0.73894002]\n",
      " [ 0.73671881]\n",
      " [ 0.7344976 ]\n",
      " [ 0.73210366]\n",
      " [ 0.72988245]\n",
      " [ 0.72767859]\n",
      " [ 0.72545738]\n",
      " [ 0.72323618]\n",
      " [ 0.72084223]\n",
      " [ 0.71862102]\n",
      " [ 0.71641717]\n",
      " [ 0.71419596]\n",
      " [ 0.71197475]\n",
      " [ 0.70958081]\n",
      " [ 0.7073596 ]\n",
      " [ 0.70515574]\n",
      " [ 0.70293453]\n",
      " [ 0.70071333]\n",
      " [ 0.69831938]\n",
      " [ 0.69609817]\n",
      " [ 0.69389432]\n",
      " [ 0.69167311]\n",
      " [ 0.6894519 ]\n",
      " [ 0.68705796]\n",
      " [ 0.68483675]\n",
      " [ 0.68263289]\n",
      " [ 0.68041168]\n",
      " [ 0.67801774]\n",
      " [ 0.67579653]\n",
      " [ 0.67357532]\n",
      " [ 0.67137147]\n",
      " [ 0.66915026]\n",
      " [ 0.66675631]\n",
      " [ 0.66453511]\n",
      " [ 0.6623139 ]\n",
      " [ 0.66011004]\n",
      " [ 0.65788884]\n",
      " [ 0.65549489]\n",
      " [ 0.65327368]\n",
      " [ 0.65105247]\n",
      " [ 0.64883127]\n",
      " [ 0.64662741]\n",
      " [ 0.64423347]\n",
      " [ 0.64201226]\n",
      " [ 0.63979105]\n",
      " [ 0.63756984]\n",
      " [ 0.63536599]\n",
      " [ 0.63295469]\n",
      " [ 0.63075083]\n",
      " [ 0.62852962]\n",
      " [ 0.62630842]\n",
      " [ 0.62410456]\n",
      " [ 0.62169326]\n",
      " [ 0.61948941]\n",
      " [ 0.6172682 ]\n",
      " [ 0.61504699]\n",
      " [ 0.61265305]\n",
      " [ 0.61043184]\n",
      " [ 0.60822798]\n",
      " [ 0.60600678]\n",
      " [ 0.60378557]\n",
      " [ 0.60139162]\n",
      " [ 0.59917041]\n",
      " [ 0.59696656]\n",
      " [ 0.59474535]\n",
      " [ 0.59252414]\n",
      " [ 0.5901302 ]\n",
      " [ 0.58790899]\n",
      " [ 0.58570513]\n",
      " [ 0.58348393]\n",
      " [ 0.58126272]\n",
      " [ 0.57886877]\n",
      " [ 0.57664757]\n",
      " [ 0.57444371]\n",
      " [ 0.5722225 ]\n",
      " [ 0.57000129]\n",
      " [ 0.56760735]\n",
      " [ 0.56538614]\n",
      " [ 0.56318228]\n",
      " [ 0.56096108]\n",
      " [ 0.55873987]\n",
      " [ 0.55634592]\n",
      " [ 0.55412472]\n",
      " [ 0.55192086]\n",
      " [ 0.54969965]\n",
      " [ 0.54730571]\n",
      " [ 0.5450845 ]\n",
      " [ 0.54286329]\n",
      " [ 0.54064208]\n",
      " [ 0.53843823]\n",
      " [ 0.53602693]\n",
      " [ 0.53382307]\n",
      " [ 0.53160187]\n",
      " [ 0.52938066]\n",
      " [ 0.5271768 ]\n",
      " [ 0.52476551]\n",
      " [ 0.52256165]\n",
      " [ 0.52034044]\n",
      " [ 0.51811923]\n",
      " [ 0.51591538]\n",
      " [ 0.51350408]\n",
      " [ 0.51130022]\n",
      " [ 0.50907902]\n",
      " [ 0.50685781]\n",
      " [ 0.50465395]\n",
      " [ 0.50224266]\n",
      " [ 0.5000388 ]\n",
      " [ 0.49781759]\n",
      " [ 0.49559638]\n",
      " [ 0.49339253]\n",
      " [ 0.49098123]\n",
      " [ 0.48877738]\n",
      " [ 0.48655617]\n",
      " [ 0.48433496]\n",
      " [ 0.48194101]\n",
      " [ 0.47971981]\n",
      " [ 0.47751595]\n",
      " [ 0.47529474]\n",
      " [ 0.47307353]\n",
      " [ 0.47067959]\n",
      " [ 0.46845838]\n",
      " [ 0.46625453]\n",
      " [ 0.46403332]\n",
      " [ 0.46181211]\n",
      " [ 0.45941816]\n",
      " [ 0.45719696]\n",
      " [ 0.4549931 ]\n",
      " [ 0.45277189]\n",
      " [ 0.45055069]\n",
      " [ 0.44815674]\n",
      " [ 0.44593553]\n",
      " [ 0.44373168]\n",
      " [ 0.44151047]\n",
      " [ 0.43928926]\n",
      " [ 0.43689532]\n",
      " [ 0.43467411]\n",
      " [ 0.4324529 ]\n",
      " [ 0.43024904]\n",
      " [ 0.42802784]\n",
      " [ 0.42563389]\n",
      " [ 0.42341268]\n",
      " [ 0.42119148]\n",
      " [ 0.41898762]\n",
      " [ 0.41657632]\n",
      " [ 0.41437247]\n",
      " [ 0.41215126]\n",
      " [ 0.40993005]\n",
      " [ 0.40772619]\n",
      " [ 0.4053149 ]\n",
      " [ 0.40311104]\n",
      " [ 0.40088983]\n",
      " [ 0.39866863]\n",
      " [ 0.39646477]\n",
      " [ 0.39405347]\n",
      " [ 0.39184962]\n",
      " [ 0.38962841]\n",
      " [ 0.3874072 ]\n",
      " [ 0.38520335]\n",
      " [ 0.38279205]\n",
      " [ 0.38058819]\n",
      " [ 0.37836698]\n",
      " [ 0.37614578]\n",
      " [ 0.37394192]\n",
      " [ 0.37153062]\n",
      " [ 0.36932677]\n",
      " [ 0.36710556]\n",
      " [ 0.36488435]\n",
      " [ 0.3626805 ]\n",
      " [ 0.3602692 ]\n",
      " [ 0.35806534]\n",
      " [ 0.35584413]]\n"
     ]
    }
   ],
   "source": [
    "#Scale dataset to [-1,1]\n",
    "from sklearn.preprocessing import MinMaxScaler\n",
    "scaler = MinMaxScaler(feature_range=(-1, 1))\n",
    "# Transform data\n",
    "feature_train_scaled=scaler.fit_transform(feature_train)\n",
    "print(feature_train_scaled)\n",
    "\n",
    "y_scaled=scaler.fit_transform(y)\n",
    "print(y_scaled)"
   ]
  },
  {
   "cell_type": "markdown",
   "metadata": {},
   "source": [
    "Training Test Split"
   ]
  },
  {
   "cell_type": "code",
   "execution_count": 89,
   "metadata": {},
   "outputs": [
    {
     "name": "stdout",
     "output_type": "stream",
     "text": [
      "(320, 165) (320, 1)\n",
      "(80, 165) (80, 1)\n"
     ]
    }
   ],
   "source": [
    "# create training and testing vars\n",
    "X_train, X_test = feature_train_scaled[0:-80], feature_train_scaled[-80:]\n",
    "y_train,y_test=y_scaled[0:-80],y_scaled[-80:]\n",
    "print(X_train.shape, y_train.shape)\n",
    "print(X_test.shape, y_test.shape)\n",
    "\n"
   ]
  },
  {
   "cell_type": "code",
   "execution_count": 23,
   "metadata": {},
   "outputs": [
    {
     "name": "stdout",
     "output_type": "stream",
     "text": [
      "Dimension of train data:  (320, 165)\n",
      "Dimension of test data:  (80, 165)\n"
     ]
    },
    {
     "data": {
      "image/png": "[encoded data removed]",
      "text/plain": [
       "<Figure size 720x432 with 1 Axes>"
      ]
     },
     "metadata": {},
     "output_type": "display_data"
    }
   ],
   "source": [
    "# Plot train and test data\n",
    "plt.figure(figsize = (10, 6))\n",
    "plt.plot(y_test)\n",
    "plt.plot(y_train)\n",
    "plt.xlabel('Time')\n",
    "plt.ylabel('Time to failure')\n",
    "plt.legend(['Test set', 'Train set'], loc='upper right')\n",
    "print('Dimension of train data: ',X_train.shape)\n",
    "print('Dimension of test data: ', X_test.shape)"
   ]
  },
  {
   "cell_type": "code",
   "execution_count": 40,
   "metadata": {},
   "outputs": [
    {
     "name": "stdout",
     "output_type": "stream",
     "text": [
      "<class 'numpy.ndarray'>\n"
     ]
    }
   ],
   "source": [
    "#x_train=X_train.to_numpy()\n",
    "#x_test=X_test.to_numpy()\n",
    "print(type(X_test))\n",
    "#x_train=X_train\n",
    "#x_test=X_test"
   ]
  },
  {
   "cell_type": "code",
   "execution_count": 90,
   "metadata": {},
   "outputs": [],
   "source": [
    "#Convert to data format needed for modeling\n",
    "x_train= X_train.reshape(X_train.shape[0], 1, X_train.shape[1])\n",
    "x_test= X_test.reshape(X_test.shape[0], 1, X_test.shape[1])"
   ]
  },
  {
   "cell_type": "code",
   "execution_count": 25,
   "metadata": {},
   "outputs": [
    {
     "name": "stdout",
     "output_type": "stream",
     "text": [
      "(320, 1, 165)\n",
      "(80, 1, 165)\n"
     ]
    }
   ],
   "source": [
    "print(x_train.shape)\n",
    "print(x_test.shape)"
   ]
  },
  {
   "cell_type": "code",
   "execution_count": 26,
   "metadata": {},
   "outputs": [
    {
     "data": {
      "text/plain": [
       "array([[[ 0.68441815,  0.91795669,  0.92471775, ...,  0.3298774 ,\n",
       "          0.2809636 , -0.59079284]],\n",
       "\n",
       "       [[ 0.59368836,  0.89472274,  0.90238553, ...,  0.15000411,\n",
       "         -0.02801781, -0.60613811]],\n",
       "\n",
       "       [[ 0.65779093,  0.88134213,  0.88998921, ...,  0.22866782,\n",
       "         -0.07567426,  0.33503836]],\n",
       "\n",
       "       ...,\n",
       "\n",
       "       [[ 0.41715976,  0.82427159,  0.83641992, ...,  0.26075866,\n",
       "          0.27284629, -0.4629156 ]],\n",
       "\n",
       "       [[ 0.47731755,  0.81953113,  0.83034412, ...,  0.1834115 ,\n",
       "          0.04399057, -0.2685422 ]],\n",
       "\n",
       "       [[ 0.31459566,  0.74172407,  0.75470588, ..., -0.00106969,\n",
       "         -0.06258183, -0.02813299]]])"
      ]
     },
     "execution_count": 26,
     "metadata": {},
     "output_type": "execute_result"
    }
   ],
   "source": [
    "x_test\n"
   ]
  },
  {
   "cell_type": "markdown",
   "metadata": {},
   "source": [
    "## Modeling LSTM, GRU, and Bidirectional networks"
   ]
  },
  {
   "cell_type": "code",
   "execution_count": 110,
   "metadata": {},
   "outputs": [],
   "source": [
    "# Create BiLSTM model\n",
    "def create_model_bilstm(units):\n",
    "    model = Sequential()\n",
    "    model.add(Bidirectional(LSTM(units = units,                             \n",
    "              return_sequences=True),\n",
    "              input_shape=(x_train.shape[1], x_train.shape[2])))\n",
    "    model.add(Bidirectional(LSTM(units = units)))\n",
    "    model.add(Dense(1))\n",
    "    #Compile model\n",
    "    model.compile(loss='mse', optimizer='adam')\n",
    "    return model\n",
    "# Create LSTM or GRU model\n",
    "def create_model(units, m):\n",
    "    model = Sequential()\n",
    "    model.add(m (units = units, return_sequences = True,\n",
    "                input_shape = [x_train.shape[1], x_train.shape[2]]))\n",
    "    model.add(Dropout(0.2))\n",
    "    model.add(m (units = units))\n",
    "    model.add(Dropout(0.2))\n",
    "    model.add(Dense(units = 1))\n",
    "    #Compile model\n",
    "    model.compile(loss='mse', optimizer='adam')\n",
    "    return model\n",
    "# BiLSTM\n",
    "model_bilstm = create_model_bilstm(64)\n",
    "# GRU and LSTM\n",
    "model_gru = create_model(64, GRU)\n",
    "model_lstm = create_model(64, LSTM)\n"
   ]
  },
  {
   "cell_type": "code",
   "execution_count": 66,
   "metadata": {},
   "outputs": [
    {
     "name": "stdout",
     "output_type": "stream",
     "text": [
      "Model: \"sequential_4\"\n",
      "_________________________________________________________________\n",
      "Layer (type)                 Output Shape              Param #   \n",
      "=================================================================\n",
      "bidirectional_2 (Bidirection (None, 1, 128)            117760    \n",
      "_________________________________________________________________\n",
      "bidirectional_3 (Bidirection (None, 128)               98816     \n",
      "_________________________________________________________________\n",
      "dense_4 (Dense)              (None, 1)                 129       \n",
      "=================================================================\n",
      "Total params: 216,705\n",
      "Trainable params: 216,705\n",
      "Non-trainable params: 0\n",
      "_________________________________________________________________\n"
     ]
    }
   ],
   "source": [
    "model_bilstm.summary()"
   ]
  },
  {
   "cell_type": "code",
   "execution_count": 83,
   "metadata": {},
   "outputs": [],
   "source": [
    "# Fit BiLSTM, LSTM and GRU\n",
    "def fit_model(model):\n",
    "    early_stop = callbacks.EarlyStopping(monitor = 'val_loss',\n",
    "                                               patience = 10)\n",
    "    history = model.fit(x_train, y_train, epochs = 100,  \n",
    "                        validation_split = 0.2, batch_size = 32, \n",
    "                        shuffle = False, callbacks = [early_stop])\n",
    "    return history\n",
    "\n",
    "\n",
    "#tensorflow.keras.callbacks.EarlyStopping(monitor = 'val_loss',"
   ]
  },
  {
   "cell_type": "code",
   "execution_count": 117,
   "metadata": {},
   "outputs": [
    {
     "name": "stdout",
     "output_type": "stream",
     "text": [
      "Epoch 1/100\n",
      "8/8 [==============================] - 6s 175ms/step - loss: 1.0140 - val_loss: 0.6267\n",
      "Epoch 2/100\n",
      "8/8 [==============================] - 0s 6ms/step - loss: 0.5853 - val_loss: 0.2738\n",
      "Epoch 3/100\n",
      "8/8 [==============================] - 0s 11ms/step - loss: 0.5244 - val_loss: 0.1457\n",
      "Epoch 4/100\n",
      "8/8 [==============================] - 0s 9ms/step - loss: 0.4965 - val_loss: 0.1916\n",
      "Epoch 5/100\n",
      "8/8 [==============================] - 0s 6ms/step - loss: 0.4265 - val_loss: 0.3444\n",
      "Epoch 6/100\n",
      "8/8 [==============================] - 0s 7ms/step - loss: 0.3401 - val_loss: 0.3673\n",
      "Epoch 7/100\n",
      "8/8 [==============================] - 0s 5ms/step - loss: 0.2979 - val_loss: 0.3065\n",
      "Epoch 8/100\n",
      "8/8 [==============================] - 0s 6ms/step - loss: 0.2796 - val_loss: 0.2918\n",
      "Epoch 9/100\n",
      "8/8 [==============================] - 0s 6ms/step - loss: 0.2550 - val_loss: 0.2571\n",
      "Epoch 10/100\n",
      "8/8 [==============================] - 0s 5ms/step - loss: 0.2395 - val_loss: 0.2424\n",
      "Epoch 11/100\n",
      "8/8 [==============================] - 0s 6ms/step - loss: 0.2302 - val_loss: 0.2496\n",
      "Epoch 12/100\n",
      "8/8 [==============================] - 0s 6ms/step - loss: 0.2198 - val_loss: 0.2432\n",
      "Epoch 13/100\n",
      "8/8 [==============================] - 0s 6ms/step - loss: 0.2149 - val_loss: 0.2460\n",
      "Epoch 1/100\n",
      "8/8 [==============================] - 5s 98ms/step - loss: 0.8694 - val_loss: 0.5257\n",
      "Epoch 2/100\n",
      "8/8 [==============================] - 0s 6ms/step - loss: 0.7254 - val_loss: 0.4288\n",
      "Epoch 3/100\n",
      "8/8 [==============================] - 0s 6ms/step - loss: 0.6850 - val_loss: 0.3476\n",
      "Epoch 4/100\n",
      "8/8 [==============================] - 0s 5ms/step - loss: 0.6298 - val_loss: 0.2572\n",
      "Epoch 5/100\n",
      "8/8 [==============================] - 0s 5ms/step - loss: 0.5624 - val_loss: 0.1989\n",
      "Epoch 6/100\n",
      "8/8 [==============================] - 0s 5ms/step - loss: 0.5049 - val_loss: 0.2192\n",
      "Epoch 7/100\n",
      "8/8 [==============================] - 0s 7ms/step - loss: 0.4241 - val_loss: 0.3009\n",
      "Epoch 8/100\n",
      "8/8 [==============================] - 0s 5ms/step - loss: 0.3548 - val_loss: 0.3423\n",
      "Epoch 9/100\n",
      "8/8 [==============================] - 0s 5ms/step - loss: 0.3282 - val_loss: 0.3387\n",
      "Epoch 10/100\n",
      "8/8 [==============================] - 0s 5ms/step - loss: 0.3214 - val_loss: 0.3145\n",
      "Epoch 11/100\n",
      "8/8 [==============================] - 0s 5ms/step - loss: 0.2998 - val_loss: 0.3162\n",
      "Epoch 12/100\n",
      "8/8 [==============================] - 0s 6ms/step - loss: 0.2818 - val_loss: 0.3020\n",
      "Epoch 13/100\n",
      "8/8 [==============================] - 0s 7ms/step - loss: 0.2716 - val_loss: 0.2987\n",
      "Epoch 14/100\n",
      "8/8 [==============================] - 0s 6ms/step - loss: 0.2641 - val_loss: 0.2793\n",
      "Epoch 15/100\n",
      "8/8 [==============================] - 0s 5ms/step - loss: 0.2467 - val_loss: 0.2959\n",
      "Epoch 1/100\n",
      "8/8 [==============================] - 3s 93ms/step - loss: 1.1706 - val_loss: 0.7025\n",
      "Epoch 2/100\n",
      "8/8 [==============================] - 0s 5ms/step - loss: 0.5027 - val_loss: 0.1751\n",
      "Epoch 3/100\n",
      "8/8 [==============================] - 0s 6ms/step - loss: 0.5406 - val_loss: 0.1143\n",
      "Epoch 4/100\n",
      "8/8 [==============================] - 0s 7ms/step - loss: 0.5298 - val_loss: 0.2101\n",
      "Epoch 5/100\n",
      "8/8 [==============================] - 0s 5ms/step - loss: 0.4564 - val_loss: 0.3334\n",
      "Epoch 6/100\n",
      "8/8 [==============================] - 0s 6ms/step - loss: 0.3670 - val_loss: 0.3249\n",
      "Epoch 7/100\n",
      "8/8 [==============================] - 0s 5ms/step - loss: 0.3315 - val_loss: 0.3001\n",
      "Epoch 8/100\n",
      "8/8 [==============================] - 0s 6ms/step - loss: 0.3325 - val_loss: 0.3225\n",
      "Epoch 9/100\n",
      "8/8 [==============================] - 0s 6ms/step - loss: 0.2952 - val_loss: 0.2890\n",
      "Epoch 10/100\n",
      "8/8 [==============================] - 0s 7ms/step - loss: 0.2781 - val_loss: 0.2402\n",
      "Epoch 11/100\n",
      "8/8 [==============================] - 0s 7ms/step - loss: 0.2793 - val_loss: 0.2602\n",
      "Epoch 12/100\n",
      "8/8 [==============================] - 0s 5ms/step - loss: 0.2522 - val_loss: 0.2440\n",
      "Epoch 13/100\n",
      "8/8 [==============================] - 0s 7ms/step - loss: 0.2462 - val_loss: 0.2443\n"
     ]
    }
   ],
   "source": [
    "history_bilstm = fit_model(model_bilstm)\n",
    "history_lstm = fit_model(model_lstm)\n",
    "history_gru = fit_model(model_gru)"
   ]
  },
  {
   "cell_type": "markdown",
   "metadata": {},
   "source": [
    "# Plot train loss and validation loss"
   ]
  },
  {
   "cell_type": "markdown",
   "metadata": {},
   "source": [
    "Evaluation of the model performance."
   ]
  },
  {
   "cell_type": "code",
   "execution_count": 94,
   "metadata": {},
   "outputs": [],
   "source": [
    "# Plot train loss and validation loss\n",
    "def plot_loss (history,title):\n",
    "    plt.figure(figsize = (10, 6))\n",
    "    plt.plot(history.history['loss'])\n",
    "    plt.plot(history.history['val_loss'])\n",
    "    plt.ylabel('Loss')\n",
    "    plt.xlabel('epoch')\n",
    "    plt.legend(['Train loss', 'Validation loss'], loc='upper right')\n",
    "    plt.title(title)\n",
    "\n"
   ]
  },
  {
   "cell_type": "code",
   "execution_count": 59,
   "metadata": {},
   "outputs": [
    {
     "data": {
      "image/png": "[encoded data removed]",
      "text/plain": [
       "<Figure size 720x432 with 1 Axes>"
      ]
     },
     "metadata": {},
     "output_type": "display_data"
    }
   ],
   "source": [
    "plot_loss (history_bilstm,'Train loss vs validation loss for BiLSTM')"
   ]
  },
  {
   "cell_type": "code",
   "execution_count": 60,
   "metadata": {},
   "outputs": [
    {
     "data": {
      "image/png": "[encoded data removed]",
      "text/plain": [
       "<Figure size 720x432 with 1 Axes>"
      ]
     },
     "metadata": {},
     "output_type": "display_data"
    }
   ],
   "source": [
    "plot_loss (history_lstm,'Train loss vs validation loss for LSTM')"
   ]
  },
  {
   "cell_type": "code",
   "execution_count": 61,
   "metadata": {},
   "outputs": [
    {
     "data": {
      "image/png": "[encoded data removed]",
      "text/plain": [
       "<Figure size 720x432 with 1 Axes>"
      ]
     },
     "metadata": {},
     "output_type": "display_data"
    }
   ],
   "source": [
    "plot_loss (history_gru,'Train loss vs validation loss for GRU')"
   ]
  },
  {
   "cell_type": "markdown",
   "metadata": {},
   "source": [
    "# Calculate RMSE and MAE\n"
   ]
  },
  {
   "cell_type": "markdown",
   "metadata": {},
   "source": [
    "I will use two goodness-of-fit measures to evaluate the performance of the models, the Root Mean Square Error and the Mean Absolute Error."
   ]
  },
  {
   "cell_type": "code",
   "execution_count": null,
   "metadata": {},
   "outputs": [],
   "source": [
    "# Make prediction\n",
    "def prediction(model):\n",
    "    prediction = model.predict(x_test)\n",
    "   # prediction = scaler_y.inverse_transform(prediction)\n",
    "    return prediction"
   ]
  },
  {
   "cell_type": "code",
   "execution_count": null,
   "metadata": {},
   "outputs": [],
   "source": [
    "prediction_bilstm = prediction(model_bilstm)\n",
    "prediction_lstm = prediction(model_lstm)\n",
    "prediction_gru = prediction(model_gru)"
   ]
  },
  {
   "cell_type": "code",
   "execution_count": 126,
   "metadata": {},
   "outputs": [
    {
     "name": "stdout",
     "output_type": "stream",
     "text": [
      "Bidirectional LSTM:\n",
      "Mean Absolute Error:  0.3977925461238827\n",
      "Root Mean Square Error:  0.40086040406762563\n",
      "\n",
      "LSTM:\n",
      "Mean Absolute Error:  0.43161014208911175\n",
      "Root Mean Square Error:  0.434906529598335\n",
      "\n",
      "GRU:\n",
      "Mean Absolute Error:  0.41488331714520416\n",
      "Root Mean Square Error:  0.41770174105754376\n",
      "\n"
     ]
    }
   ],
   "source": [
    "# Define a function to calculate MAE and RMSE\n",
    "def evaluate_prediction(predictions, actual, model_name):\n",
    "    errors = predictions - actual\n",
    "    mse = np.square(errors).mean()\n",
    "    rmse = np.sqrt(mse)\n",
    "    mae = np.abs(errors).mean()\n",
    "    print(model_name + ':')\n",
    "    print('Mean Absolute Error: ',mae)\n",
    "    print('Root Mean Square Error: ',rmse)\n",
    "    print('')\n",
    "evaluate_prediction(prediction_bilstm, y_test, 'Bidirectional LSTM')\n",
    "evaluate_prediction(prediction_lstm, y_test, 'LSTM')\n",
    "evaluate_prediction(prediction_gru, y_test, 'GRU')"
   ]
  },
  {
   "cell_type": "markdown",
   "metadata": {},
   "source": [
    "## Parameter tuning "
   ]
  },
  {
   "cell_type": "markdown",
   "metadata": {},
   "source": [
    "Here are some hyperparameters that can be optimized. For the purpose of this analysis I will only tune the Learning rate and the number of units ina dense layer."
   ]
  },
  {
   "cell_type": "markdown",
   "metadata": {},
   "source": [
    "1.  NUMBER OF NODES AND HIDDEN LAYERS\n",
    "As a general rule of thumb, one hidden layer will work with most simple problems and two layers with reasonably complex ones. Also, while many nodes (with regularization techniques) within a layer can increase accuracy, fewer number of nodes may cause underfitting.\n"
   ]
  },
  {
   "cell_type": "markdown",
   "metadata": {},
   "source": [
    "2. NUMBER OF UNITS IN A DENSE LAYER\n",
    "\n",
    "As a general rule of thumb, one hidden layer will work with most simple problems and two layers with reasonably complex ones. Also, while many nodes (with regularization techniques) within a layer can increase accuracy, fewer number of nodes may cause underfitting.\n",
    "Method: model.add(Dense(10, …))\n"
   ]
  },
  {
   "cell_type": "markdown",
   "metadata": {},
   "source": [
    "3. DROPOUT\n",
    "\n",
    "Every LSTM layer should be accompanied by a dropout layer. Such a layer helps avoid overfitting in training by bypassing randomly selected neurons, thereby reducing the sensitivity to specific weights of the individual neurons. While dropout layers can be used with input layers, they shouldn’t be used with output layers as that may mess up the output from the model and the calculation of error. While adding more complexity may risk overfitting (by increasing nodes in dense layers or adding more number of dense layers and have poor validation accuracy), this can be addressed by adding dropout.\n",
    "A good starting point is 20% but the dropout value should be kept small (up to 50%). The 20% value is widely accepted as the best compromise between preventing model overfitting and retaining model accuracy.\n",
    "\n",
    "Method: model.add(LSTM(…, dropout=0.5))"
   ]
  },
  {
   "cell_type": "markdown",
   "metadata": {},
   "source": [
    "4. WEIGHT INITIALIZATION\n",
    "\n",
    "Weights should finally be initialized randomly to small numbers (an expectation of the stochastic optimization algorithm, otherwise known as stochastic gradient descent) to harness randomness in the search process."
   ]
  },
  {
   "cell_type": "markdown",
   "metadata": {},
   "source": [
    "5. DECAY RATE\n",
    "\n",
    "The weight decay can be added in the weight update rule that makes the weights decay to zero exponentially, if no other weight update is scheduled. After each update, the weights are multiplied by a factor slightly less than 1, thereby preventing them from growing to huge. This specifies regularization in the network.\n",
    "The default value of 0.97 should be enough to start off.\n"
   ]
  },
  {
   "cell_type": "markdown",
   "metadata": {},
   "source": [
    "6. ACTIVATION FUNCTION\n",
    "\n",
    "Again, choice of activation layer depends on the application, however, the rectifier activation function is most popular. Specific situations entail specific functions. For example, sigmoid activation is used in the output layer for binary predictions and softmax is used to make multi-class predictions (softmax gives your ability the ability to interpret the outputs as probabilities.\n",
    "Method: The process is to create user defined functions and have it return the output associated with any specific activation function. \n",
    "\n",
    "For example, here is a sigmoid activation function:\n",
    "def sigmoid(x):\n",
    "return 1/(1+np.exp(-x))\n",
    "Sigmoid (log-sigmoid) and hyperbolic tangent are some of the more popular activation functions adopted in LSTM blocks."
   ]
  },
  {
   "cell_type": "markdown",
   "metadata": {},
   "source": [
    "7. LEARNING RATE\n",
    "\n",
    "This hyperparameter defines how quickly the network updates its parameters. Setting a higher learning rate accelerates the learning but the model may not converge (a state during training where the loss settles to within an error range around the final value), or even diverge. Conversely, a lower rate will slow down the learning drastically as steps towards the minimum of loss function will be tiny, but will allow the model to converge smoothly.\n",
    "Usually a decaying learning rate is preferred and this hyperparameter is used in the training phase and has a small positive value, mostly between 0.0 and 0.1."
   ]
  },
  {
   "cell_type": "markdown",
   "metadata": {},
   "source": [
    "8. MOMENTUM\n",
    "\n",
    "Momentum is a unique hyperparameter which allows the accumulation of the gradients of the past steps to determine the direction to go with, instead of using the gradient of only the current step to guide the search.\n",
    "Typically, the value is between 0.5 to 0.9"
   ]
  },
  {
   "cell_type": "markdown",
   "metadata": {},
   "source": [
    "9. NUMBER OF EPOCHS\n",
    "\n",
    "This hyperparameters sets how many complete iterations of the dataset is to be run. While theoretically, this number can be set to an integer value between one and infinity, this should be increased until the validation accuracy starts to decrease even though training accuracy increases (and hence risking overfitting).\n",
    "A pro move is to employ the early stopping method to first specify a large number of training epochs and stop training once the model performance stops improving by a pre-set threshold on the validation dataset.\n",
    "\n"
   ]
  },
  {
   "cell_type": "markdown",
   "metadata": {},
   "source": [
    "10. BATCH SIZE\n",
    "\n",
    "This hyperparameter defines the number of samples to work on before the internal parameters of the model are updated. Large sizes make large gradient steps compared to smaller ones for the same number of samples “seen”.\n",
    "Widely accepted, a good default value for batch size is 32. For experimentation, you can try multiples of 32, such as 64, 128 and 256."
   ]
  },
  {
   "cell_type": "code",
   "execution_count": null,
   "metadata": {},
   "outputs": [],
   "source": [
    "!pip install keras-tuner"
   ]
  },
  {
   "cell_type": "code",
   "execution_count": null,
   "metadata": {},
   "outputs": [],
   "source": [
    "!pip install opencv-contrib-python"
   ]
  },
  {
   "cell_type": "markdown",
   "metadata": {},
   "source": [
    "# Parameter tuning for Biderectional model\n"
   ]
  },
  {
   "cell_type": "markdown",
   "metadata": {},
   "source": [
    "The hyperparameters that I will tune are the number of units and the learning rate. The two methods that I will use are Random Search and Bayesian Optimization both from the Keras tuner package."
   ]
  },
  {
   "cell_type": "markdown",
   "metadata": {},
   "source": [
    "## Tuning BiLSTM with Keras Random Search"
   ]
  },
  {
   "cell_type": "code",
   "execution_count": 131,
   "metadata": {},
   "outputs": [],
   "source": [
    "#from tensorflow.keras import layers\n",
    "from keras_tuner import RandomSearch\n",
    "from tensorflow.keras import layers\n",
    "from tensorflow import keras\n",
    "import numpy as np\n"
   ]
  },
  {
   "cell_type": "code",
   "execution_count": 243,
   "metadata": {},
   "outputs": [],
   "source": [
    "##### Create BiLSTM model with hyperparameter range.\n",
    "units=64\n",
    "def model_bilstm_hp(hp):\n",
    "    model = Sequential()\n",
    "    model.add(Bidirectional(LSTM(units = hp.Int(\"units\", min_value=32, max_value=512, step=32),                             \n",
    "              return_sequences=True),\n",
    "              input_shape=(x_train.shape[1], x_train.shape[2])))\n",
    "    model.add(Bidirectional(LSTM(units = hp.Int(\"units\", min_value=32, max_value=512, step=32))))\n",
    "    #model.add(layers.Dense(units=hp.Int(\"units\", min_value=32, max_value=512, step=32),activation=\"relu\"))\n",
    "    model.add(Dense(1))\n",
    "    #Compile model\n",
    "    model.compile(optimizer=keras.optimizers.Adam(hp.Choice(\"learning_rate\", values=[1e-2, 1e-3, 1e-4])),loss='mse')\n",
    "    \n",
    "    return model\n",
    "\n"
   ]
  },
  {
   "cell_type": "code",
   "execution_count": 244,
   "metadata": {},
   "outputs": [],
   "source": [
    "\n",
    "from keras_tuner import RandomSearch\n",
    "\n",
    "\n",
    "tuner_RS = RandomSearch(\n",
    "    model_bilstm_hp,\n",
    "    objective='loss',\n",
    "    max_trials=3,\n",
    "    executions_per_trial=2,\n",
    "    overwrite=True,\n",
    "    directory='/Users/jose1/Desktop/SpringboardLalli/PROJECT_2/P2_Earthquake',\n",
    "    project_name=\"Hyperparameter_search_biderectional_Final\")"
   ]
  },
  {
   "cell_type": "code",
   "execution_count": 245,
   "metadata": {
    "scrolled": true
   },
   "outputs": [
    {
     "name": "stdout",
     "output_type": "stream",
     "text": [
      "Search space summary\n",
      "Default search space size: 2\n",
      "units (Int)\n",
      "{'default': None, 'conditions': [], 'min_value': 32, 'max_value': 512, 'step': 32, 'sampling': None}\n",
      "learning_rate (Choice)\n",
      "{'default': 0.01, 'conditions': [], 'values': [0.01, 0.001, 0.0001], 'ordered': True}\n"
     ]
    }
   ],
   "source": [
    "tuner_RS.search_space_summary()"
   ]
  },
  {
   "cell_type": "code",
   "execution_count": 246,
   "metadata": {},
   "outputs": [
    {
     "name": "stdout",
     "output_type": "stream",
     "text": [
      "Trial 3 Complete [00h 00m 59s]\n",
      "loss: 0.728107750415802\n",
      "\n",
      "Best loss So Far: 0.22472556680440903\n",
      "Total elapsed time: 00h 01m 57s\n",
      "INFO:tensorflow:Oracle triggered exit\n"
     ]
    }
   ],
   "source": [
    "early_stop = callbacks.EarlyStopping(monitor = 'val_loss',patience = 10)\n",
    "tuner_RS.search(x_train, y_train, epochs=100, validation_data=(x_test, y_test),validation_split = 0.2, batch_size = 32, \n",
    "                        shuffle = False, callbacks = [early_stop])"
   ]
  },
  {
   "cell_type": "code",
   "execution_count": 248,
   "metadata": {},
   "outputs": [
    {
     "name": "stdout",
     "output_type": "stream",
     "text": [
      "Results summary\n",
      "Results in /Users/jose1/Desktop/SpringboardLalli/PROJECT_2/P2_Earthquake/Hyperparameter_search_biderectional_Final\n",
      "Showing 10 best trials\n",
      "Objective(name='loss', direction='min')\n",
      "Trial summary\n",
      "Hyperparameters:\n",
      "units: 448\n",
      "learning_rate: 0.001\n",
      "Score: 0.22472556680440903\n",
      "Trial summary\n",
      "Hyperparameters:\n",
      "units: 192\n",
      "learning_rate: 0.0001\n",
      "Score: 0.3131140172481537\n",
      "Trial summary\n",
      "Hyperparameters:\n",
      "units: 384\n",
      "learning_rate: 0.01\n",
      "Score: 0.728107750415802\n"
     ]
    }
   ],
   "source": [
    "#Epochs =100\n",
    "tuner_RS.results_summary()"
   ]
  },
  {
   "cell_type": "markdown",
   "metadata": {},
   "source": [
    "The selected optimized model with Keras tuner is:\n",
    "\n",
    "Hyperparameters:\n",
    "\n",
    "units: 448\n",
    "\n",
    "learning_rate: 0.001\n",
    "\n",
    "Score: 0.22472556680440903"
   ]
  },
  {
   "cell_type": "code",
   "execution_count": 249,
   "metadata": {},
   "outputs": [],
   "source": [
    "units=448\n",
    "def create_model_bilstm_tuner(units):\n",
    "    model = Sequential()\n",
    "    model.add(Bidirectional(LSTM(units = units,                             \n",
    "              return_sequences=True),\n",
    "              input_shape=(x_train.shape[1], x_train.shape[2])))\n",
    "    model.add(Bidirectional(LSTM(units = units)))\n",
    "    #model.add(layers.Dense(units=units,activation=\"relu\"))\n",
    "    model.add(Dense(1))\n",
    "    #Compile model\n",
    "    model.compile(optimizer=keras.optimizers.Adam(learning_rate=0.001),loss='mse')\n",
    "    \n",
    "    #model.compile(loss='mse', optimizer='adam')\n",
    "    return model"
   ]
  },
  {
   "cell_type": "code",
   "execution_count": 250,
   "metadata": {},
   "outputs": [],
   "source": [
    "# BiLSTM\n",
    "model_bilstm_tuner = create_model_bilstm_tuner(units)"
   ]
  },
  {
   "cell_type": "code",
   "execution_count": 251,
   "metadata": {},
   "outputs": [
    {
     "name": "stdout",
     "output_type": "stream",
     "text": [
      "Epoch 1/100\n",
      "8/8 [==============================] - 5s 190ms/step - loss: 0.7872 - val_loss: 0.3901\n",
      "Epoch 2/100\n",
      "8/8 [==============================] - 0s 35ms/step - loss: 1.5871 - val_loss: 0.5402\n",
      "Epoch 3/100\n",
      "8/8 [==============================] - 0s 34ms/step - loss: 0.5071 - val_loss: 0.2324\n",
      "Epoch 4/100\n",
      "8/8 [==============================] - 0s 33ms/step - loss: 0.4183 - val_loss: 0.2032\n",
      "Epoch 5/100\n",
      "8/8 [==============================] - 0s 33ms/step - loss: 0.4189 - val_loss: 0.4083\n",
      "Epoch 6/100\n",
      "8/8 [==============================] - 0s 34ms/step - loss: 0.3412 - val_loss: 0.2644\n",
      "Epoch 7/100\n",
      "8/8 [==============================] - 0s 35ms/step - loss: 0.3239 - val_loss: 0.2444\n",
      "Epoch 8/100\n",
      "8/8 [==============================] - 0s 35ms/step - loss: 0.3100 - val_loss: 0.2867\n",
      "Epoch 9/100\n",
      "8/8 [==============================] - 0s 33ms/step - loss: 0.2729 - val_loss: 0.2398\n",
      "Epoch 10/100\n",
      "8/8 [==============================] - 0s 32ms/step - loss: 0.2646 - val_loss: 0.2450\n",
      "Epoch 11/100\n",
      "8/8 [==============================] - 0s 33ms/step - loss: 0.2454 - val_loss: 0.2208\n",
      "Epoch 12/100\n",
      "8/8 [==============================] - 0s 38ms/step - loss: 0.2361 - val_loss: 0.2242\n",
      "Epoch 13/100\n",
      "8/8 [==============================] - 0s 32ms/step - loss: 0.2275 - val_loss: 0.2157\n",
      "Epoch 14/100\n",
      "8/8 [==============================] - 0s 32ms/step - loss: 0.2245 - val_loss: 0.2215\n"
     ]
    }
   ],
   "source": [
    "history_bilstm_tuner = fit_model(model_bilstm_tuner)"
   ]
  },
  {
   "cell_type": "code",
   "execution_count": 252,
   "metadata": {},
   "outputs": [
    {
     "data": {
      "image/png": "[encoded data removed]",
      "text/plain": [
       "<Figure size 720x432 with 1 Axes>"
      ]
     },
     "metadata": {},
     "output_type": "display_data"
    }
   ],
   "source": [
    "plot_loss (history_bilstm_tuner,'Train loss vs validation loss for tuned BiLSTM with Random Search')"
   ]
  },
  {
   "cell_type": "code",
   "execution_count": 253,
   "metadata": {},
   "outputs": [],
   "source": [
    "# Make prediction\n",
    "def prediction_Tuned(model):\n",
    "    prediction = model.predict(x_test)\n",
    "   # prediction = scaler_y.inverse_transform(prediction)\n",
    "    return prediction"
   ]
  },
  {
   "cell_type": "code",
   "execution_count": 254,
   "metadata": {},
   "outputs": [],
   "source": [
    "prediction_bilstm_Tuned = prediction_Tuned(model_bilstm_tuner)\n"
   ]
  },
  {
   "cell_type": "code",
   "execution_count": 255,
   "metadata": {},
   "outputs": [
    {
     "name": "stdout",
     "output_type": "stream",
     "text": [
      "Bidirectional LSTM Random Search tuned:\n",
      "Mean Absolute Error:  0.641288100250252\n",
      "Root Mean Square Error:  0.7284742848984478\n",
      "\n"
     ]
    }
   ],
   "source": [
    "evaluate_prediction(prediction_bilstm_Tuned, y_test, 'Bidirectional LSTM Random Search tuned')"
   ]
  },
  {
   "cell_type": "markdown",
   "metadata": {},
   "source": [
    "Plot of the Predicted values."
   ]
  },
  {
   "cell_type": "code",
   "execution_count": 256,
   "metadata": {},
   "outputs": [],
   "source": [
    "#Rescale\n",
    "\n",
    "y_pred_bilstm_NS_tuned=scaler.inverse_transform(prediction_bilstm_Tuned )"
   ]
  },
  {
   "cell_type": "code",
   "execution_count": 257,
   "metadata": {},
   "outputs": [
    {
     "data": {
      "image/png": "[encoded data removed]",
      "text/plain": [
       "<Figure size 720x432 with 1 Axes>"
      ]
     },
     "metadata": {},
     "output_type": "display_data"
    }
   ],
   "source": [
    "\n",
    "plot_future(y_pred_bilstm_NS_tuned, y_test_NS,\"BLISTM Model RS tuned\")"
   ]
  },
  {
   "cell_type": "markdown",
   "metadata": {},
   "source": [
    "## Tuning BiLSTM with Keras BayesianOptimization"
   ]
  },
  {
   "cell_type": "markdown",
   "metadata": {},
   "source": [
    "I will use the same defined model (model_bilstm_hp) and change the tuner to BayesianOptimization."
   ]
  },
  {
   "cell_type": "code",
   "execution_count": 266,
   "metadata": {},
   "outputs": [],
   "source": [
    "####https://keras.io/guides/keras_tuner/getting_started/\n",
    "from keras_tuner import BayesianOptimization\n",
    "\n",
    "\n",
    "tuner_BO = BayesianOptimization(\n",
    "    model_bilstm_hp,\n",
    "    objective='loss',\n",
    "    max_trials=3,\n",
    "    executions_per_trial=2,\n",
    "    overwrite=True,\n",
    "    directory='/Users/jose1/Desktop/SpringboardLalli/PROJECT_2/P2_Earthquake',\n",
    "    project_name=\"Hyperparameter_Bayesian_biderectional_BO_Final\")\n"
   ]
  },
  {
   "cell_type": "code",
   "execution_count": 267,
   "metadata": {},
   "outputs": [
    {
     "name": "stdout",
     "output_type": "stream",
     "text": [
      "Search space summary\n",
      "Default search space size: 2\n",
      "units (Int)\n",
      "{'default': None, 'conditions': [], 'min_value': 32, 'max_value': 512, 'step': 32, 'sampling': None}\n",
      "learning_rate (Choice)\n",
      "{'default': 0.01, 'conditions': [], 'values': [0.01, 0.001, 0.0001], 'ordered': True}\n"
     ]
    }
   ],
   "source": [
    "tuner_BO.search_space_summary()"
   ]
  },
  {
   "cell_type": "code",
   "execution_count": 268,
   "metadata": {},
   "outputs": [
    {
     "name": "stdout",
     "output_type": "stream",
     "text": [
      "Trial 3 Complete [00h 00m 26s]\n",
      "loss: 0.7304695844650269\n",
      "\n",
      "Best loss So Far: 0.22466743737459183\n",
      "Total elapsed time: 00h 01m 07s\n",
      "INFO:tensorflow:Oracle triggered exit\n"
     ]
    }
   ],
   "source": [
    "early_stop = callbacks.EarlyStopping(monitor = 'val_loss',patience = 10)\n",
    "tuner_BO.search(x_train, y_train, epochs=100, validation_data=(x_test, y_test),validation_split = 0.2, batch_size = 32, \n",
    "                        shuffle = False, callbacks = [early_stop])"
   ]
  },
  {
   "cell_type": "code",
   "execution_count": 270,
   "metadata": {},
   "outputs": [
    {
     "name": "stdout",
     "output_type": "stream",
     "text": [
      "Results summary\n",
      "Results in /Users/jose1/Desktop/SpringboardLalli/PROJECT_2/P2_Earthquake/Hyperparameter_Bayesian_biderectional_BO_Final\n",
      "Showing 10 best trials\n",
      "Objective(name='loss', direction='min')\n",
      "Trial summary\n",
      "Hyperparameters:\n",
      "units: 448\n",
      "learning_rate: 0.001\n",
      "Score: 0.22466743737459183\n",
      "Trial summary\n",
      "Hyperparameters:\n",
      "units: 32\n",
      "learning_rate: 0.0001\n",
      "Score: 0.37453441321849823\n",
      "Trial summary\n",
      "Hyperparameters:\n",
      "units: 512\n",
      "learning_rate: 0.01\n",
      "Score: 0.7304695844650269\n"
     ]
    }
   ],
   "source": [
    "#Epochs =100\n",
    "tuner_BO.results_summary()"
   ]
  },
  {
   "cell_type": "markdown",
   "metadata": {},
   "source": [
    "Parameters used:\n",
    "Hyperparameters:\n",
    "\n",
    "units: 448\n",
    "\n",
    "learning_rate: 0.001\n",
    "\n",
    "Score: 0.22466743737459183\n"
   ]
  },
  {
   "cell_type": "markdown",
   "metadata": {},
   "source": [
    "Model with hyperparameters found with BayesianOptimization"
   ]
  },
  {
   "cell_type": "code",
   "execution_count": 271,
   "metadata": {},
   "outputs": [],
   "source": [
    "units=448\n",
    "\n",
    "def create_model_bilstm_tuner_B(units):\n",
    "    model = Sequential()\n",
    "    model.add(Bidirectional(LSTM(units = units,                             \n",
    "              return_sequences=True),\n",
    "              input_shape=(x_train.shape[1], x_train.shape[2])))\n",
    "    model.add(Bidirectional(LSTM(units = units)))\n",
    "    #model.add(layers.Dense(units=units,activation=\"relu\"))\n",
    "    model.add(Dense(1))\n",
    "    #Compile model\n",
    "    model.compile(optimizer=keras.optimizers.Adam(learning_rate=0.001),loss='mse')\n",
    "    \n",
    "    #model.compile(loss='mse', optimizer='adam')\n",
    "    return model"
   ]
  },
  {
   "cell_type": "code",
   "execution_count": 272,
   "metadata": {},
   "outputs": [],
   "source": [
    "# BiLSTM Bayesian tuner\n",
    "model_bilstm_tuner_B = create_model_bilstm_tuner_B(units)"
   ]
  },
  {
   "cell_type": "code",
   "execution_count": 273,
   "metadata": {},
   "outputs": [
    {
     "name": "stdout",
     "output_type": "stream",
     "text": [
      "Epoch 1/100\n",
      "8/8 [==============================] - 6s 200ms/step - loss: 0.8000 - val_loss: 0.4360\n",
      "Epoch 2/100\n",
      "8/8 [==============================] - 0s 34ms/step - loss: 1.5620 - val_loss: 0.5468\n",
      "Epoch 3/100\n",
      "8/8 [==============================] - 0s 34ms/step - loss: 0.5233 - val_loss: 0.2644\n",
      "Epoch 4/100\n",
      "8/8 [==============================] - 0s 33ms/step - loss: 0.4017 - val_loss: 0.1924\n",
      "Epoch 5/100\n",
      "8/8 [==============================] - 0s 33ms/step - loss: 0.4177 - val_loss: 0.3984\n",
      "Epoch 6/100\n",
      "8/8 [==============================] - 0s 32ms/step - loss: 0.3440 - val_loss: 0.2831\n",
      "Epoch 7/100\n",
      "8/8 [==============================] - 0s 34ms/step - loss: 0.3184 - val_loss: 0.2415\n",
      "Epoch 8/100\n",
      "8/8 [==============================] - 0s 34ms/step - loss: 0.3104 - val_loss: 0.2878\n",
      "Epoch 9/100\n",
      "8/8 [==============================] - 0s 33ms/step - loss: 0.2741 - val_loss: 0.2469\n",
      "Epoch 10/100\n",
      "8/8 [==============================] - 0s 32ms/step - loss: 0.2632 - val_loss: 0.2435\n",
      "Epoch 11/100\n",
      "8/8 [==============================] - 0s 34ms/step - loss: 0.2468 - val_loss: 0.2264\n",
      "Epoch 12/100\n",
      "8/8 [==============================] - 0s 33ms/step - loss: 0.2350 - val_loss: 0.2229\n",
      "Epoch 13/100\n",
      "8/8 [==============================] - 0s 34ms/step - loss: 0.2280 - val_loss: 0.2173\n",
      "Epoch 14/100\n",
      "8/8 [==============================] - 0s 32ms/step - loss: 0.2242 - val_loss: 0.2220\n"
     ]
    }
   ],
   "source": [
    "history_bilstm_tuner_B = fit_model(model_bilstm_tuner_B)"
   ]
  },
  {
   "cell_type": "code",
   "execution_count": 274,
   "metadata": {},
   "outputs": [
    {
     "data": {
      "image/png": "[encoded data removed]",
      "text/plain": [
       "<Figure size 720x432 with 1 Axes>"
      ]
     },
     "metadata": {},
     "output_type": "display_data"
    }
   ],
   "source": [
    "plot_loss (history_bilstm_tuner_B,'Train loss vs validation loss for tuned BiLSTM with Bayesian Optimization')"
   ]
  },
  {
   "cell_type": "code",
   "execution_count": 275,
   "metadata": {},
   "outputs": [],
   "source": [
    "###  Prediction Keras Bayesian tuner model\n",
    "prediction_bilstm_tuner_B = prediction_Tuned(model_bilstm_tuner_B)"
   ]
  },
  {
   "cell_type": "markdown",
   "metadata": {},
   "source": [
    "WARNING:tensorflow:5 out of the last 16 calls to <function Model.make_predict_function.<locals>.predict_function at 0x17d8ed430> triggered tf.function retracing. Tracing is expensive and the excessive number of tracings could be due to (1) creating @tf.function repeatedly in a loop, (2) passing tensors with different shapes, (3) passing Python objects instead of tensors. For (1), please define your @tf.function outside of the loop. For (2), @tf.function has experimental_relax_shapes=True option that relaxes argument shapes that can avoid unnecessary retracing. For (3), please refer to https://www.tensorflow.org/guide/function#controlling_retracing and https://www.tensorflow.org/api_docs/python/tf/function for  more details."
   ]
  },
  {
   "cell_type": "code",
   "execution_count": 306,
   "metadata": {},
   "outputs": [
    {
     "name": "stdout",
     "output_type": "stream",
     "text": [
      "Bidirectional LSTM with Bayesian Optimization:\n",
      "Mean Absolute Error:  0.6461497604238804\n",
      "Root Mean Square Error:  0.7341609924695007\n",
      "\n"
     ]
    }
   ],
   "source": [
    "## Evaluate Prediction\n",
    "\n",
    "evaluate_prediction(prediction_bilstm_tuner_B, y_test, 'Bidirectional LSTM with Bayesian Optimization')"
   ]
  },
  {
   "cell_type": "markdown",
   "metadata": {},
   "source": [
    "Plot of predicted values"
   ]
  },
  {
   "cell_type": "code",
   "execution_count": 277,
   "metadata": {},
   "outputs": [],
   "source": [
    "#Rescale\n",
    "\n",
    "y_pred_bilstm_NS_tuner_B=scaler.inverse_transform(prediction_bilstm_tuner_B )"
   ]
  },
  {
   "cell_type": "code",
   "execution_count": 278,
   "metadata": {},
   "outputs": [
    {
     "data": {
      "image/png": "[encoded data removed]",
      "text/plain": [
       "<Figure size 720x432 with 1 Axes>"
      ]
     },
     "metadata": {},
     "output_type": "display_data"
    }
   ],
   "source": [
    "plot_future(y_pred_bilstm_NS_tuner_B, y_test_NS,\"BLISTM Model Bayesian Optiomization\")"
   ]
  },
  {
   "cell_type": "markdown",
   "metadata": {},
   "source": [
    "## Hyperparameter Tuning for GRU model"
   ]
  },
  {
   "cell_type": "markdown",
   "metadata": {},
   "source": [
    "## Tuning GRU with Keras Random Search"
   ]
  },
  {
   "cell_type": "markdown",
   "metadata": {},
   "source": [
    "First I create the GRU model with the hyperparameter range."
   ]
  },
  {
   "cell_type": "code",
   "execution_count": 279,
   "metadata": {},
   "outputs": [],
   "source": [
    "units=64\n",
    "def create_GRU_model_hp(hp):\n",
    "    model = Sequential()\n",
    "    model.add(GRU (units = hp.Int(\"units\", min_value=32, max_value=512, step=32), return_sequences = True,\n",
    "                input_shape = [x_train.shape[1], x_train.shape[2]]))\n",
    "    model.add(Dropout(0.2))\n",
    "    model.add(GRU (units = hp.Int(\"units\", min_value=32, max_value=512, step=32)))\n",
    "    model.add(Dropout(0.2))\n",
    "    #model.add(layers.Dense(units=hp.Int(\"units\", min_value=32, max_value=512, step=32),activation=\"relu\"))\n",
    "    \n",
    "    model.add(Dense(units = 1))\n",
    "    #Compile model\n",
    "    model.compile(optimizer=keras.optimizers.Adam(hp.Choice(\"learning_rate\", values=[1e-2, 1e-3, 1e-4])),loss='mse')\n",
    "    \n",
    "    #model.compile(loss='mse', optimizer='adam')\n",
    "    return model\n",
    "\n"
   ]
  },
  {
   "cell_type": "code",
   "execution_count": 280,
   "metadata": {},
   "outputs": [],
   "source": [
    "tuner_GRU = RandomSearch(\n",
    "    create_GRU_model_hp,\n",
    "    objective='loss',\n",
    "    max_trials=3,\n",
    "    executions_per_trial=2,\n",
    "    overwrite=True,\n",
    "    directory='/Users/jose1/Desktop/SpringboardLalli/PROJECT_2/P2_Earthquake',\n",
    "    project_name=\"Hyperparameter_search_GRU_RS_Final\")"
   ]
  },
  {
   "cell_type": "code",
   "execution_count": 281,
   "metadata": {},
   "outputs": [
    {
     "name": "stdout",
     "output_type": "stream",
     "text": [
      "Search space summary\n",
      "Default search space size: 2\n",
      "units (Int)\n",
      "{'default': None, 'conditions': [], 'min_value': 32, 'max_value': 512, 'step': 32, 'sampling': None}\n",
      "learning_rate (Choice)\n",
      "{'default': 0.01, 'conditions': [], 'values': [0.01, 0.001, 0.0001], 'ordered': True}\n"
     ]
    }
   ],
   "source": [
    "tuner_GRU.search_space_summary()"
   ]
  },
  {
   "cell_type": "code",
   "execution_count": 282,
   "metadata": {},
   "outputs": [
    {
     "name": "stdout",
     "output_type": "stream",
     "text": [
      "Trial 3 Complete [00h 00m 11s]\n",
      "loss: 0.17863204330205917\n",
      "\n",
      "Best loss So Far: 0.17863204330205917\n",
      "Total elapsed time: 00h 00m 30s\n",
      "INFO:tensorflow:Oracle triggered exit\n"
     ]
    }
   ],
   "source": [
    "early_stop = callbacks.EarlyStopping(monitor = 'val_loss',patience = 10)\n",
    "tuner_GRU.search(x_train, y_train, epochs=100, validation_data=(x_test, y_test),validation_split = 0.2, batch_size = 32, \n",
    "                        shuffle = False, callbacks = [early_stop])"
   ]
  },
  {
   "cell_type": "code",
   "execution_count": 283,
   "metadata": {},
   "outputs": [
    {
     "name": "stdout",
     "output_type": "stream",
     "text": [
      "Results summary\n",
      "Results in /Users/jose1/Desktop/SpringboardLalli/PROJECT_2/P2_Earthquake/Hyperparameter_search_GRU_RS_Final\n",
      "Showing 10 best trials\n",
      "Objective(name='loss', direction='min')\n",
      "Trial summary\n",
      "Hyperparameters:\n",
      "units: 256\n",
      "learning_rate: 0.01\n",
      "Score: 0.17863204330205917\n",
      "Trial summary\n",
      "Hyperparameters:\n",
      "units: 160\n",
      "learning_rate: 0.001\n",
      "Score: 0.24812711030244827\n",
      "Trial summary\n",
      "Hyperparameters:\n",
      "units: 96\n",
      "learning_rate: 0.0001\n",
      "Score: 0.4183855801820755\n"
     ]
    }
   ],
   "source": [
    "\n",
    "tuner_GRU.results_summary()"
   ]
  },
  {
   "cell_type": "markdown",
   "metadata": {},
   "source": [
    "The selected optimized model with Keras tuner is:\n",
    "\n",
    "Hyperparameters:\n",
    "\n",
    "units: 256\n",
    "\n",
    "learning_rate: 0.01\n",
    "\n",
    "Score: 0.17863204330205917"
   ]
  },
  {
   "cell_type": "markdown",
   "metadata": {},
   "source": [
    "GRU Model with hyperparameters found with Random Search."
   ]
  },
  {
   "cell_type": "code",
   "execution_count": 285,
   "metadata": {},
   "outputs": [],
   "source": [
    "units=256\n",
    "def create_GRU_model_R(units):\n",
    "    model = Sequential()\n",
    "    model.add(GRU (units = units, return_sequences = True,\n",
    "                input_shape = [x_train.shape[1], x_train.shape[2]]))\n",
    "    model.add(Dropout(0.2))\n",
    "    model.add(GRU (units = units))\n",
    "    model.add(Dropout(0.2))\n",
    "    #model.add(layers.Dense(units=units,activation=\"relu\"))\n",
    "    model.add(Dense(units = 1))\n",
    "   \n",
    "    model.compile(optimizer=keras.optimizers.Adam(learning_rate=0.01),loss='mse')\n",
    "    return model\n",
    "\n"
   ]
  },
  {
   "cell_type": "code",
   "execution_count": 286,
   "metadata": {},
   "outputs": [],
   "source": [
    "# BiLSTM Bayesian tuner\n",
    "model_GRU_tuner_RS = create_GRU_model_R(units)"
   ]
  },
  {
   "cell_type": "code",
   "execution_count": 287,
   "metadata": {},
   "outputs": [
    {
     "name": "stdout",
     "output_type": "stream",
     "text": [
      "Epoch 1/100\n",
      "8/8 [==============================] - 3s 93ms/step - loss: 7.1091 - val_loss: 0.4498\n",
      "Epoch 2/100\n",
      "8/8 [==============================] - 0s 6ms/step - loss: 0.7699 - val_loss: 0.4469\n",
      "Epoch 3/100\n",
      "8/8 [==============================] - 0s 6ms/step - loss: 0.7333 - val_loss: 0.3847\n",
      "Epoch 4/100\n",
      "8/8 [==============================] - 0s 6ms/step - loss: 0.7276 - val_loss: 0.3550\n",
      "Epoch 5/100\n",
      "8/8 [==============================] - 0s 6ms/step - loss: 0.7240 - val_loss: 0.3373\n",
      "Epoch 6/100\n",
      "8/8 [==============================] - 0s 6ms/step - loss: 0.7144 - val_loss: 0.3181\n",
      "Epoch 7/100\n",
      "8/8 [==============================] - 0s 6ms/step - loss: 0.7034 - val_loss: 0.2886\n",
      "Epoch 8/100\n",
      "8/8 [==============================] - 0s 6ms/step - loss: 0.6654 - val_loss: 0.2347\n",
      "Epoch 9/100\n",
      "8/8 [==============================] - 0s 6ms/step - loss: 0.6188 - val_loss: 0.2262\n",
      "Epoch 10/100\n",
      "8/8 [==============================] - 0s 7ms/step - loss: 0.5059 - val_loss: 0.2578\n",
      "Epoch 11/100\n",
      "8/8 [==============================] - 0s 6ms/step - loss: 0.3735 - val_loss: 0.3510\n",
      "Epoch 12/100\n",
      "8/8 [==============================] - 0s 6ms/step - loss: 0.3201 - val_loss: 0.2967\n",
      "Epoch 13/100\n",
      "8/8 [==============================] - 0s 6ms/step - loss: 0.2846 - val_loss: 0.2684\n",
      "Epoch 14/100\n",
      "8/8 [==============================] - 0s 6ms/step - loss: 0.2501 - val_loss: 0.2608\n",
      "Epoch 15/100\n",
      "8/8 [==============================] - 0s 6ms/step - loss: 0.2497 - val_loss: 0.2959\n",
      "Epoch 16/100\n",
      "8/8 [==============================] - 0s 6ms/step - loss: 0.2145 - val_loss: 0.2573\n",
      "Epoch 17/100\n",
      "8/8 [==============================] - 0s 6ms/step - loss: 0.2346 - val_loss: 0.2789\n",
      "Epoch 18/100\n",
      "8/8 [==============================] - 0s 6ms/step - loss: 0.2164 - val_loss: 0.2557\n",
      "Epoch 19/100\n",
      "8/8 [==============================] - 0s 7ms/step - loss: 0.2118 - val_loss: 0.2190\n",
      "Epoch 20/100\n",
      "8/8 [==============================] - 0s 6ms/step - loss: 0.2213 - val_loss: 0.2730\n",
      "Epoch 21/100\n",
      "8/8 [==============================] - 0s 6ms/step - loss: 0.2326 - val_loss: 0.2539\n",
      "Epoch 22/100\n",
      "8/8 [==============================] - 0s 6ms/step - loss: 0.2080 - val_loss: 0.1582\n",
      "Epoch 23/100\n",
      "8/8 [==============================] - 0s 6ms/step - loss: 0.2544 - val_loss: 0.3608\n",
      "Epoch 24/100\n",
      "8/8 [==============================] - 0s 6ms/step - loss: 0.1873 - val_loss: 0.1194\n",
      "Epoch 25/100\n",
      "8/8 [==============================] - 0s 6ms/step - loss: 0.2482 - val_loss: 0.5353\n",
      "Epoch 26/100\n",
      "8/8 [==============================] - 0s 6ms/step - loss: 0.1988 - val_loss: 0.1763\n",
      "Epoch 27/100\n",
      "8/8 [==============================] - 0s 6ms/step - loss: 0.2243 - val_loss: 0.5643\n",
      "Epoch 28/100\n",
      "8/8 [==============================] - 0s 6ms/step - loss: 0.1979 - val_loss: 0.3513\n",
      "Epoch 29/100\n",
      "8/8 [==============================] - 0s 6ms/step - loss: 0.1964 - val_loss: 0.3780\n",
      "Epoch 30/100\n",
      "8/8 [==============================] - 0s 6ms/step - loss: 0.1819 - val_loss: 0.2719\n",
      "Epoch 31/100\n",
      "8/8 [==============================] - 0s 6ms/step - loss: 0.2068 - val_loss: 0.3747\n",
      "Epoch 32/100\n",
      "8/8 [==============================] - 0s 6ms/step - loss: 0.1971 - val_loss: 0.3391\n",
      "Epoch 33/100\n",
      "8/8 [==============================] - 0s 6ms/step - loss: 0.1835 - val_loss: 0.3169\n",
      "Epoch 34/100\n",
      "8/8 [==============================] - 0s 6ms/step - loss: 0.1836 - val_loss: 0.3334\n"
     ]
    }
   ],
   "source": [
    "history_GRU_tuner_RS = fit_model(model_GRU_tuner_RS)"
   ]
  },
  {
   "cell_type": "code",
   "execution_count": 288,
   "metadata": {},
   "outputs": [
    {
     "data": {
      "image/png": "[encoded data removed]",
      "text/plain": [
       "<Figure size 720x432 with 1 Axes>"
      ]
     },
     "metadata": {},
     "output_type": "display_data"
    }
   ],
   "source": [
    "\n",
    "plot_loss (history_GRU_tuner_RS,'Train loss vs validation loss for tuned GRU with Random Search')"
   ]
  },
  {
   "cell_type": "code",
   "execution_count": 289,
   "metadata": {},
   "outputs": [],
   "source": [
    "###  Prediction Keras Bayesian tuner model\n",
    "prediction_GRU_tuner_RS = prediction(model_GRU_tuner_RS)"
   ]
  },
  {
   "cell_type": "code",
   "execution_count": 309,
   "metadata": {},
   "outputs": [
    {
     "name": "stdout",
     "output_type": "stream",
     "text": [
      "GRU_tuner Random search:\n",
      "Mean Absolute Error:  0.8621814099712666\n",
      "Root Mean Square Error:  0.9647753462378025\n",
      "\n"
     ]
    }
   ],
   "source": [
    "## Evaluate Prediction\n",
    "\n",
    "evaluate_prediction(prediction_GRU_tuner_RS, y_test, 'GRU_tuner Random search')"
   ]
  },
  {
   "cell_type": "markdown",
   "metadata": {},
   "source": [
    "Plot of predicted values"
   ]
  },
  {
   "cell_type": "code",
   "execution_count": 291,
   "metadata": {},
   "outputs": [],
   "source": [
    "#Rescale\n",
    "\n",
    "y_pred_GRU_NS_tuner_RS=scaler.inverse_transform(prediction_GRU_tuner_RS)"
   ]
  },
  {
   "cell_type": "code",
   "execution_count": 292,
   "metadata": {
    "scrolled": true
   },
   "outputs": [
    {
     "data": {
      "image/png": "[encoded data removed]",
      "text/plain": [
       "<Figure size 720x432 with 1 Axes>"
      ]
     },
     "metadata": {},
     "output_type": "display_data"
    }
   ],
   "source": [
    "plot_future(y_pred_GRU_NS_tuner_RS, y_test_NS,\"LSTM Model\")\n",
    "\n"
   ]
  },
  {
   "cell_type": "markdown",
   "metadata": {},
   "source": [
    "## Tuning GRU with Keras Bayesian Optimization"
   ]
  },
  {
   "cell_type": "markdown",
   "metadata": {},
   "source": [
    "I will keep the same model definition used with the hyperparameter Random search."
   ]
  },
  {
   "cell_type": "code",
   "execution_count": 293,
   "metadata": {},
   "outputs": [],
   "source": [
    "tuner_GRU_BO =  BayesianOptimization(\n",
    "    create_GRU_model_hp,\n",
    "    objective='loss',\n",
    "    max_trials=3,\n",
    "    executions_per_trial=2,\n",
    "    overwrite=True,\n",
    "    directory='/Users/jose1/Desktop/SpringboardLalli/PROJECT_2/P2_Earthquake',\n",
    "    project_name=\"Hyperparameter_search_GRU_BO_Final\")"
   ]
  },
  {
   "cell_type": "code",
   "execution_count": 294,
   "metadata": {},
   "outputs": [
    {
     "name": "stdout",
     "output_type": "stream",
     "text": [
      "Search space summary\n",
      "Default search space size: 2\n",
      "units (Int)\n",
      "{'default': None, 'conditions': [], 'min_value': 32, 'max_value': 512, 'step': 32, 'sampling': None}\n",
      "learning_rate (Choice)\n",
      "{'default': 0.01, 'conditions': [], 'values': [0.01, 0.001, 0.0001], 'ordered': True}\n"
     ]
    }
   ],
   "source": [
    "tuner_GRU_BO.search_space_summary()"
   ]
  },
  {
   "cell_type": "code",
   "execution_count": 295,
   "metadata": {},
   "outputs": [
    {
     "name": "stdout",
     "output_type": "stream",
     "text": [
      "Trial 3 Complete [00h 00m 17s]\n",
      "loss: 0.7260081171989441\n",
      "\n",
      "Best loss So Far: 0.18625755608081818\n",
      "Total elapsed time: 00h 00m 41s\n",
      "INFO:tensorflow:Oracle triggered exit\n"
     ]
    }
   ],
   "source": [
    "early_stop = callbacks.EarlyStopping(monitor = 'val_loss',patience = 10)\n",
    "tuner_GRU_BO.search(x_train, y_train, epochs=100, validation_data=(x_test, y_test),validation_split = 0.2, batch_size = 32, \n",
    "                        shuffle = False, callbacks = [early_stop])"
   ]
  },
  {
   "cell_type": "code",
   "execution_count": 222,
   "metadata": {},
   "outputs": [
    {
     "name": "stdout",
     "output_type": "stream",
     "text": [
      "Results summary\n",
      "Results in /Users/jose1/Desktop/SpringboardLalli/PROJECT_2/P2_Earthquake/Hyperparameter_search_GRU_BO_Final\n",
      "Showing 10 best trials\n",
      "Objective(name='loss', direction='min')\n",
      "Trial summary\n",
      "Hyperparameters:\n",
      "units: 128\n",
      "learning_rate: 0.001\n",
      "Score: 0.4471256583929062\n",
      "Trial summary\n",
      "Hyperparameters:\n",
      "units: 352\n",
      "learning_rate: 0.001\n",
      "Score: 0.45557452738285065\n",
      "Trial summary\n",
      "Hyperparameters:\n",
      "units: 32\n",
      "learning_rate: 0.01\n",
      "Score: 0.7386903762817383\n"
     ]
    }
   ],
   "source": [
    "#Epochs =100\n",
    "tuner_GRU_BO.results_summary()"
   ]
  },
  {
   "cell_type": "markdown",
   "metadata": {},
   "source": [
    "The selected optimized model with Keras tuner is:\n",
    "\n",
    "Hyperparameters:\n",
    "\n",
    "units: 128\n",
    "\n",
    "learning_rate: 0.001\n",
    "\n",
    "Score: 0.4471256583929062"
   ]
  },
  {
   "cell_type": "code",
   "execution_count": 297,
   "metadata": {},
   "outputs": [],
   "source": [
    "units=128\n",
    "def create_GRU_model_BO(units):\n",
    "    model = Sequential()\n",
    "    model.add(GRU (units = units, return_sequences = True,\n",
    "                input_shape = [x_train.shape[1], x_train.shape[2]]))\n",
    "    model.add(Dropout(0.2))\n",
    "    model.add(GRU (units = units))\n",
    "    model.add(Dropout(0.2))\n",
    "  \n",
    "    model.add(Dense(units = 1))\n",
    "   \n",
    "    model.compile(optimizer=keras.optimizers.Adam(learning_rate=0.001),loss='mse')\n",
    "    return model"
   ]
  },
  {
   "cell_type": "code",
   "execution_count": 298,
   "metadata": {},
   "outputs": [],
   "source": [
    "# BiLSTM Bayesian tuner\n",
    "model_GRU_tuner_BO = create_GRU_model_BO(units)"
   ]
  },
  {
   "cell_type": "code",
   "execution_count": 299,
   "metadata": {},
   "outputs": [
    {
     "name": "stdout",
     "output_type": "stream",
     "text": [
      "Epoch 1/100\n",
      "8/8 [==============================] - 3s 95ms/step - loss: 1.4874 - val_loss: 0.2805\n",
      "Epoch 2/100\n",
      "8/8 [==============================] - 0s 5ms/step - loss: 0.5392 - val_loss: 0.0372\n",
      "Epoch 3/100\n",
      "8/8 [==============================] - 0s 5ms/step - loss: 0.7146 - val_loss: 0.2399\n",
      "Epoch 4/100\n",
      "8/8 [==============================] - 0s 5ms/step - loss: 0.5120 - val_loss: 0.3179\n",
      "Epoch 5/100\n",
      "8/8 [==============================] - 0s 5ms/step - loss: 0.3848 - val_loss: 0.2580\n",
      "Epoch 6/100\n",
      "8/8 [==============================] - 0s 6ms/step - loss: 0.3731 - val_loss: 0.3275\n",
      "Epoch 7/100\n",
      "8/8 [==============================] - 0s 5ms/step - loss: 0.3342 - val_loss: 0.3146\n",
      "Epoch 8/100\n",
      "8/8 [==============================] - 0s 5ms/step - loss: 0.3090 - val_loss: 0.2499\n",
      "Epoch 9/100\n",
      "8/8 [==============================] - 0s 5ms/step - loss: 0.3043 - val_loss: 0.2285\n",
      "Epoch 10/100\n",
      "8/8 [==============================] - 0s 5ms/step - loss: 0.2691 - val_loss: 0.2185\n",
      "Epoch 11/100\n",
      "8/8 [==============================] - 0s 5ms/step - loss: 0.2769 - val_loss: 0.2405\n",
      "Epoch 12/100\n",
      "8/8 [==============================] - 0s 5ms/step - loss: 0.2439 - val_loss: 0.1968\n"
     ]
    }
   ],
   "source": [
    "history_GRU_tuner_BO= fit_model(model_GRU_tuner_BO)"
   ]
  },
  {
   "cell_type": "code",
   "execution_count": 300,
   "metadata": {},
   "outputs": [
    {
     "data": {
      "image/png": "[encoded data removed]",
      "text/plain": [
       "<Figure size 720x432 with 1 Axes>"
      ]
     },
     "metadata": {},
     "output_type": "display_data"
    }
   ],
   "source": [
    "plot_loss (history_GRU_tuner_BO,'Train loss vs validation loss for tuned GRU with Bayesian Optimization')"
   ]
  },
  {
   "cell_type": "code",
   "execution_count": 301,
   "metadata": {},
   "outputs": [],
   "source": [
    "###  Prediction Keras Bayesian tuner model\n",
    "prediction_GRU_tuner_BO = prediction(model_GRU_tuner_BO)"
   ]
  },
  {
   "cell_type": "code",
   "execution_count": 307,
   "metadata": {},
   "outputs": [
    {
     "name": "stdout",
     "output_type": "stream",
     "text": [
      "GRU_tuner Bayesian Optimization:\n",
      "Mean Absolute Error:  0.5550329646518657\n",
      "Root Mean Square Error:  0.639126322996294\n",
      "\n"
     ]
    }
   ],
   "source": [
    "## Evaluate Prediction\n",
    "\n",
    "evaluate_prediction(prediction_GRU_tuner_BO, y_test, 'GRU_tuner Bayesian Optimization')"
   ]
  },
  {
   "cell_type": "markdown",
   "metadata": {},
   "source": [
    "Plot of predicted values"
   ]
  },
  {
   "cell_type": "code",
   "execution_count": 303,
   "metadata": {},
   "outputs": [],
   "source": [
    "#Rescale\n",
    "\n",
    "\n",
    "y_pred_GRU_NS_tuner_BO=scaler.inverse_transform(prediction_GRU_tuner_BO)"
   ]
  },
  {
   "cell_type": "code",
   "execution_count": 304,
   "metadata": {},
   "outputs": [
    {
     "data": {
      "image/png": "[encoded data removed]",
      "text/plain": [
       "<Figure size 720x432 with 1 Axes>"
      ]
     },
     "metadata": {},
     "output_type": "display_data"
    }
   ],
   "source": [
    "plot_future(y_pred_GRU_NS_tuner_BO, y_test_NS,\"GRU Model Bayesian Optimization\")"
   ]
  },
  {
   "cell_type": "markdown",
   "metadata": {},
   "source": [
    "## Model Metrics Evaluation"
   ]
  },
  {
   "cell_type": "markdown",
   "metadata": {},
   "source": [
    "Comparison of the metrics of the tuned models, BiLSTM and GRU models"
   ]
  },
  {
   "cell_type": "code",
   "execution_count": 308,
   "metadata": {},
   "outputs": [
    {
     "name": "stdout",
     "output_type": "stream",
     "text": [
      "Bidirectional LSTM Random Search tuned:\n",
      "Mean Absolute Error:  0.641288100250252\n",
      "Root Mean Square Error:  0.7284742848984478\n",
      "\n",
      "Bidirectional LSTM with Bayesian Optimization:\n",
      "Mean Absolute Error:  0.6461497604238804\n",
      "Root Mean Square Error:  0.7341609924695007\n",
      "\n",
      "GRU Random search:\n",
      "Mean Absolute Error:  0.8621814099712666\n",
      "Root Mean Square Error:  0.9647753462378025\n",
      "\n",
      "GRU_tuner Bayesian Optimization:\n",
      "Mean Absolute Error:  0.5550329646518657\n",
      "Root Mean Square Error:  0.639126322996294\n",
      "\n"
     ]
    }
   ],
   "source": [
    "evaluate_prediction(prediction_bilstm_Tuned, y_test, 'Bidirectional LSTM Random Search tuned')\n",
    "evaluate_prediction(prediction_bilstm_tuner_B, y_test, 'Bidirectional LSTM with Bayesian Optimization')\n",
    "evaluate_prediction(prediction_GRU_tuner_RS, y_test, 'GRU Random search')\n",
    "evaluate_prediction(prediction_GRU_tuner_BO, y_test, 'GRU_tuner Bayesian Optimization')"
   ]
  },
  {
   "cell_type": "markdown",
   "metadata": {},
   "source": [
    "Even though the Train and Valitation loss graph show an improvement for the BiLSTM model the MAE and the RMSE have increased compared to the first model before the hyper paramenter tuning.\n",
    "\n",
    "For the GRU model the Train and Validation graph have converge closer in the first model before the hyperparameter tunig and also the RMSE and the MAE increased.\n",
    "\n"
   ]
  },
  {
   "cell_type": "markdown",
   "metadata": {},
   "source": [
    "# Model selected"
   ]
  },
  {
   "cell_type": "markdown",
   "metadata": {},
   "source": [
    "The model that I will select is the BiLSTM model with 64 units, the default learning rate of 0.01 and loss = MSE and Adam optimizer."
   ]
  },
  {
   "cell_type": "code",
   "execution_count": null,
   "metadata": {},
   "outputs": [],
   "source": [
    "# Create BiLSTM model\n",
    "def create_model_bilstm(units):\n",
    "    model = Sequential()\n",
    "    model.add(Bidirectional(LSTM(units = units,                             \n",
    "              return_sequences=True),\n",
    "              input_shape=(x_train.shape[1], x_train.shape[2])))\n",
    "    model.add(Bidirectional(LSTM(units = units)))\n",
    "    model.add(Dense(1))\n",
    "    #Compile model\n",
    "    model.compile(loss='mse', optimizer='adam')\n",
    "    return model"
   ]
  },
  {
   "cell_type": "markdown",
   "metadata": {},
   "source": [
    "QUESTIONS:\n",
    "1.-  Do I need to consider how the predictions look for each of the models?\n",
    "2.- Do I need to add the prediction sectio of the selected fimal model?\n"
   ]
  },
  {
   "cell_type": "markdown",
   "metadata": {},
   "source": [
    "## Prediction"
   ]
  },
  {
   "cell_type": "markdown",
   "metadata": {},
   "source": [
    "Prediction using BiLSTM, LSTM and GRU models. Then, a plot of true future (test data) vs prediction the three models is shown too."
   ]
  },
  {
   "cell_type": "code",
   "execution_count": null,
   "metadata": {},
   "outputs": [],
   "source": [
    "# Make prediction\n",
    "def prediction(model):\n",
    "    prediction = model.predict(x_test)\n",
    "   # prediction = scaler_y.inverse_transform(prediction)\n",
    "    return prediction\n",
    "\n"
   ]
  },
  {
   "cell_type": "code",
   "execution_count": null,
   "metadata": {},
   "outputs": [],
   "source": [
    "prediction_bilstm = prediction(model_bilstm)\n",
    "prediction_lstm = prediction(model_lstm)\n",
    "prediction_gru = prediction(model_gru)\n",
    "\n"
   ]
  },
  {
   "cell_type": "code",
   "execution_count": null,
   "metadata": {},
   "outputs": [],
   "source": [
    "y_pred_bilstm_NS=scaler.inverse_transform(prediction_bilstm)\n",
    "y_test_NS=scaler.inverse_transform(y_test)\n",
    "\n",
    "y_pred_bilstm_lstm_NS=scaler.inverse_transform(prediction_lstm)\n",
    "y_pred_bilstm_gru_NS=scaler.inverse_transform(prediction_gru)"
   ]
  },
  {
   "cell_type": "code",
   "execution_count": null,
   "metadata": {},
   "outputs": [],
   "source": [
    "# Plot true future vs prediction\n",
    "def plot_future(prediction, y_test,title):\n",
    "    plt.figure(figsize=(10, 6))\n",
    "    range_future = len(prediction)\n",
    "    plt.plot(np.arange(range_future), np.array(y_test), \n",
    "             label='True Future')     \n",
    "    plt.plot(np.arange(range_future),np.array(prediction),\n",
    "            label='Prediction')\n",
    "    plt.legend(loc='upper left')\n",
    "    plt.xlabel('Time')\n",
    "    plt.ylabel('Time to failure')\n",
    "    plt.title(title)\n",
    "plot_future(y_pred_bilstm_NS, y_test_NS,\"BLISTM Model\")\n",
    "plot_future(y_pred_bilstm_lstm_NS, y_test_NS,\"LSTM Model\")\n",
    "plot_future(y_pred_bilstm_gru_NS, y_test_NS,\"GRU Model\")"
   ]
  }
 ],
 "metadata": {
  "kernelspec": {
   "display_name": "Python 3",
   "language": "python",
   "name": "python3"
  },
  "language_info": {
   "codemirror_mode": {
    "name": "ipython",
    "version": 3
   },
   "file_extension": ".py",
   "mimetype": "text/x-python",
   "name": "python",
   "nbconvert_exporter": "python",
   "pygments_lexer": "ipython3",
   "version": "3.8.5"
  }
 },
 "nbformat": 4,
 "nbformat_minor": 4
}
